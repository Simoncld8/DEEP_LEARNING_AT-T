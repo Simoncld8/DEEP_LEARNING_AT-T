{
 "cells": [
  {
   "cell_type": "markdown",
   "metadata": {},
   "source": [
    "# **Deep Learning - AT&T**\n",
    "\n",
    "## **Project**\n",
    "One of the main pain point that AT&T users are facing is constant exposure to SPAM messages.\n",
    "\n",
    "AT&T has been able to manually flag spam messages for a time, but they are looking for an automated way of detecting spams to protect their users.\n",
    "\n",
    "## **Goals**\n",
    "the goal is to build a spam detector, that can automatically flag spams as they come based solely on the sms' content. \n",
    "The study is structured into four key components:\n",
    "\n",
    "1. **Initial explorations** of the data present in the dataset\n",
    "\n",
    "2. **Data Cleaning and Preprocessing** \n",
    "\n",
    "3. **Models training** \n",
    "\n",
    "4. **Performances analysis**\n"
   ]
  },
  {
   "cell_type": "code",
   "execution_count": 384,
   "metadata": {},
   "outputs": [
    {
     "name": "stdout",
     "output_type": "stream",
     "text": [
      "Collecting en-core-web-sm==3.7.1\n",
      "  Downloading https://github.com/explosion/spacy-models/releases/download/en_core_web_sm-3.7.1/en_core_web_sm-3.7.1-py3-none-any.whl (12.8 MB)\n",
      "\u001b[2K     \u001b[90m━━━━━━━━━━━━━━━━━━━━━━━━━━━━━━━━━━━━━━━━\u001b[0m \u001b[32m12.8/12.8 MB\u001b[0m \u001b[31m3.0 MB/s\u001b[0m eta \u001b[36m0:00:00\u001b[0m00:01\u001b[0m00:01\u001b[0m\n",
      "\u001b[?25hRequirement already satisfied: spacy<3.8.0,>=3.7.2 in /Users/simoncld/anaconda3/lib/python3.11/site-packages (from en-core-web-sm==3.7.1) (3.7.3)\n",
      "Requirement already satisfied: spacy-legacy<3.1.0,>=3.0.11 in /Users/simoncld/anaconda3/lib/python3.11/site-packages (from spacy<3.8.0,>=3.7.2->en-core-web-sm==3.7.1) (3.0.12)\n",
      "Requirement already satisfied: spacy-loggers<2.0.0,>=1.0.0 in /Users/simoncld/anaconda3/lib/python3.11/site-packages (from spacy<3.8.0,>=3.7.2->en-core-web-sm==3.7.1) (1.0.5)\n",
      "Requirement already satisfied: murmurhash<1.1.0,>=0.28.0 in /Users/simoncld/anaconda3/lib/python3.11/site-packages (from spacy<3.8.0,>=3.7.2->en-core-web-sm==3.7.1) (1.0.10)\n",
      "Requirement already satisfied: cymem<2.1.0,>=2.0.2 in /Users/simoncld/anaconda3/lib/python3.11/site-packages (from spacy<3.8.0,>=3.7.2->en-core-web-sm==3.7.1) (2.0.8)\n",
      "Requirement already satisfied: preshed<3.1.0,>=3.0.2 in /Users/simoncld/anaconda3/lib/python3.11/site-packages (from spacy<3.8.0,>=3.7.2->en-core-web-sm==3.7.1) (3.0.9)\n",
      "Requirement already satisfied: thinc<8.3.0,>=8.2.2 in /Users/simoncld/anaconda3/lib/python3.11/site-packages (from spacy<3.8.0,>=3.7.2->en-core-web-sm==3.7.1) (8.2.3)\n",
      "Requirement already satisfied: wasabi<1.2.0,>=0.9.1 in /Users/simoncld/anaconda3/lib/python3.11/site-packages (from spacy<3.8.0,>=3.7.2->en-core-web-sm==3.7.1) (1.1.2)\n",
      "Requirement already satisfied: srsly<3.0.0,>=2.4.3 in /Users/simoncld/anaconda3/lib/python3.11/site-packages (from spacy<3.8.0,>=3.7.2->en-core-web-sm==3.7.1) (2.4.8)\n",
      "Requirement already satisfied: catalogue<2.1.0,>=2.0.6 in /Users/simoncld/anaconda3/lib/python3.11/site-packages (from spacy<3.8.0,>=3.7.2->en-core-web-sm==3.7.1) (2.0.10)\n",
      "Requirement already satisfied: weasel<0.4.0,>=0.1.0 in /Users/simoncld/anaconda3/lib/python3.11/site-packages (from spacy<3.8.0,>=3.7.2->en-core-web-sm==3.7.1) (0.3.4)\n",
      "Requirement already satisfied: typer<0.10.0,>=0.3.0 in /Users/simoncld/anaconda3/lib/python3.11/site-packages (from spacy<3.8.0,>=3.7.2->en-core-web-sm==3.7.1) (0.9.0)\n",
      "Requirement already satisfied: smart-open<7.0.0,>=5.2.1 in /Users/simoncld/anaconda3/lib/python3.11/site-packages (from spacy<3.8.0,>=3.7.2->en-core-web-sm==3.7.1) (5.2.1)\n",
      "Requirement already satisfied: tqdm<5.0.0,>=4.38.0 in /Users/simoncld/anaconda3/lib/python3.11/site-packages (from spacy<3.8.0,>=3.7.2->en-core-web-sm==3.7.1) (4.65.0)\n",
      "Requirement already satisfied: requests<3.0.0,>=2.13.0 in /Users/simoncld/anaconda3/lib/python3.11/site-packages (from spacy<3.8.0,>=3.7.2->en-core-web-sm==3.7.1) (2.31.0)\n",
      "Requirement already satisfied: pydantic!=1.8,!=1.8.1,<3.0.0,>=1.7.4 in /Users/simoncld/anaconda3/lib/python3.11/site-packages (from spacy<3.8.0,>=3.7.2->en-core-web-sm==3.7.1) (1.10.8)\n",
      "Requirement already satisfied: jinja2 in /Users/simoncld/anaconda3/lib/python3.11/site-packages (from spacy<3.8.0,>=3.7.2->en-core-web-sm==3.7.1) (3.1.2)\n",
      "Requirement already satisfied: setuptools in /Users/simoncld/anaconda3/lib/python3.11/site-packages (from spacy<3.8.0,>=3.7.2->en-core-web-sm==3.7.1) (69.0.3)\n",
      "Requirement already satisfied: packaging>=20.0 in /Users/simoncld/anaconda3/lib/python3.11/site-packages (from spacy<3.8.0,>=3.7.2->en-core-web-sm==3.7.1) (23.0)\n",
      "Requirement already satisfied: langcodes<4.0.0,>=3.2.0 in /Users/simoncld/anaconda3/lib/python3.11/site-packages (from spacy<3.8.0,>=3.7.2->en-core-web-sm==3.7.1) (3.3.0)\n",
      "Requirement already satisfied: numpy>=1.19.0 in /Users/simoncld/anaconda3/lib/python3.11/site-packages (from spacy<3.8.0,>=3.7.2->en-core-web-sm==3.7.1) (1.24.3)\n",
      "Requirement already satisfied: typing-extensions>=4.2.0 in /Users/simoncld/anaconda3/lib/python3.11/site-packages (from pydantic!=1.8,!=1.8.1,<3.0.0,>=1.7.4->spacy<3.8.0,>=3.7.2->en-core-web-sm==3.7.1) (4.7.1)\n",
      "Requirement already satisfied: charset-normalizer<4,>=2 in /Users/simoncld/anaconda3/lib/python3.11/site-packages (from requests<3.0.0,>=2.13.0->spacy<3.8.0,>=3.7.2->en-core-web-sm==3.7.1) (2.0.4)\n",
      "Requirement already satisfied: idna<4,>=2.5 in /Users/simoncld/anaconda3/lib/python3.11/site-packages (from requests<3.0.0,>=2.13.0->spacy<3.8.0,>=3.7.2->en-core-web-sm==3.7.1) (3.4)\n",
      "Requirement already satisfied: urllib3<3,>=1.21.1 in /Users/simoncld/anaconda3/lib/python3.11/site-packages (from requests<3.0.0,>=2.13.0->spacy<3.8.0,>=3.7.2->en-core-web-sm==3.7.1) (1.26.16)\n",
      "Requirement already satisfied: certifi>=2017.4.17 in /Users/simoncld/anaconda3/lib/python3.11/site-packages (from requests<3.0.0,>=2.13.0->spacy<3.8.0,>=3.7.2->en-core-web-sm==3.7.1) (2023.7.22)\n",
      "Requirement already satisfied: blis<0.8.0,>=0.7.8 in /Users/simoncld/anaconda3/lib/python3.11/site-packages (from thinc<8.3.0,>=8.2.2->spacy<3.8.0,>=3.7.2->en-core-web-sm==3.7.1) (0.7.11)\n",
      "Requirement already satisfied: confection<1.0.0,>=0.0.1 in /Users/simoncld/anaconda3/lib/python3.11/site-packages (from thinc<8.3.0,>=8.2.2->spacy<3.8.0,>=3.7.2->en-core-web-sm==3.7.1) (0.1.3)\n",
      "Requirement already satisfied: click<9.0.0,>=7.1.1 in /Users/simoncld/anaconda3/lib/python3.11/site-packages (from typer<0.10.0,>=0.3.0->spacy<3.8.0,>=3.7.2->en-core-web-sm==3.7.1) (8.0.4)\n",
      "Requirement already satisfied: cloudpathlib<0.17.0,>=0.7.0 in /Users/simoncld/anaconda3/lib/python3.11/site-packages (from weasel<0.4.0,>=0.1.0->spacy<3.8.0,>=3.7.2->en-core-web-sm==3.7.1) (0.16.0)\n",
      "Requirement already satisfied: MarkupSafe>=2.0 in /Users/simoncld/anaconda3/lib/python3.11/site-packages (from jinja2->spacy<3.8.0,>=3.7.2->en-core-web-sm==3.7.1) (2.1.1)\n",
      "\u001b[38;5;2m✔ Download and installation successful\u001b[0m\n",
      "You can now load the package via spacy.load('en_core_web_sm')\n"
     ]
    }
   ],
   "source": [
    "# Import Spacy and English initialisation\n",
    "!python -m spacy download en_core_web_sm"
   ]
  },
  {
   "cell_type": "code",
   "execution_count": 385,
   "metadata": {},
   "outputs": [],
   "source": [
    "# Library imports for project analysis\n",
    "\n",
    "import pandas as pd\n",
    "import io\n",
    "import os\n",
    "import re\n",
    "import shutil\n",
    "import string\n",
    "import tensorflow as tf\n",
    "import tensorflow as tf\n",
    "from sklearn.preprocessing import LabelEncoder\n",
    "from tensorflow.keras import Sequential\n",
    "from tensorflow.keras.layers.experimental.preprocessing import TextVectorization\n",
    "from tensorflow.keras.layers import Embedding, SimpleRNN, Dense, GRU, LSTM\n",
    "import spacy\n",
    "import plotly.graph_objects as go"
   ]
  },
  {
   "cell_type": "markdown",
   "metadata": {},
   "source": [
    "### 1. **Initial explorations** of the data present in the dataset"
   ]
  },
  {
   "cell_type": "code",
   "execution_count": 386,
   "metadata": {},
   "outputs": [],
   "source": [
    "df = pd.read_csv(\"spam.csv\", encoding='cp1252')"
   ]
  },
  {
   "cell_type": "code",
   "execution_count": 387,
   "metadata": {},
   "outputs": [
    {
     "name": "stdout",
     "output_type": "stream",
     "text": [
      "Number of rows and columns:  : (5572, 5)\n",
      "\n",
      "Display of dataset: \n"
     ]
    },
    {
     "data": {
      "text/html": [
       "<div>\n",
       "<style scoped>\n",
       "    .dataframe tbody tr th:only-of-type {\n",
       "        vertical-align: middle;\n",
       "    }\n",
       "\n",
       "    .dataframe tbody tr th {\n",
       "        vertical-align: top;\n",
       "    }\n",
       "\n",
       "    .dataframe thead th {\n",
       "        text-align: right;\n",
       "    }\n",
       "</style>\n",
       "<table border=\"1\" class=\"dataframe\">\n",
       "  <thead>\n",
       "    <tr style=\"text-align: right;\">\n",
       "      <th></th>\n",
       "      <th>v1</th>\n",
       "      <th>v2</th>\n",
       "      <th>Unnamed: 2</th>\n",
       "      <th>Unnamed: 3</th>\n",
       "      <th>Unnamed: 4</th>\n",
       "    </tr>\n",
       "  </thead>\n",
       "  <tbody>\n",
       "    <tr>\n",
       "      <th>0</th>\n",
       "      <td>ham</td>\n",
       "      <td>Go until jurong point, crazy.. Available only ...</td>\n",
       "      <td>NaN</td>\n",
       "      <td>NaN</td>\n",
       "      <td>NaN</td>\n",
       "    </tr>\n",
       "    <tr>\n",
       "      <th>1</th>\n",
       "      <td>ham</td>\n",
       "      <td>Ok lar... Joking wif u oni...</td>\n",
       "      <td>NaN</td>\n",
       "      <td>NaN</td>\n",
       "      <td>NaN</td>\n",
       "    </tr>\n",
       "    <tr>\n",
       "      <th>2</th>\n",
       "      <td>spam</td>\n",
       "      <td>Free entry in 2 a wkly comp to win FA Cup fina...</td>\n",
       "      <td>NaN</td>\n",
       "      <td>NaN</td>\n",
       "      <td>NaN</td>\n",
       "    </tr>\n",
       "    <tr>\n",
       "      <th>3</th>\n",
       "      <td>ham</td>\n",
       "      <td>U dun say so early hor... U c already then say...</td>\n",
       "      <td>NaN</td>\n",
       "      <td>NaN</td>\n",
       "      <td>NaN</td>\n",
       "    </tr>\n",
       "    <tr>\n",
       "      <th>4</th>\n",
       "      <td>ham</td>\n",
       "      <td>Nah I don't think he goes to usf, he lives aro...</td>\n",
       "      <td>NaN</td>\n",
       "      <td>NaN</td>\n",
       "      <td>NaN</td>\n",
       "    </tr>\n",
       "  </tbody>\n",
       "</table>\n",
       "</div>"
      ],
      "text/plain": [
       "     v1                                                 v2 Unnamed: 2  \\\n",
       "0   ham  Go until jurong point, crazy.. Available only ...        NaN   \n",
       "1   ham                      Ok lar... Joking wif u oni...        NaN   \n",
       "2  spam  Free entry in 2 a wkly comp to win FA Cup fina...        NaN   \n",
       "3   ham  U dun say so early hor... U c already then say...        NaN   \n",
       "4   ham  Nah I don't think he goes to usf, he lives aro...        NaN   \n",
       "\n",
       "  Unnamed: 3 Unnamed: 4  \n",
       "0        NaN        NaN  \n",
       "1        NaN        NaN  \n",
       "2        NaN        NaN  \n",
       "3        NaN        NaN  \n",
       "4        NaN        NaN  "
      ]
     },
     "metadata": {},
     "output_type": "display_data"
    },
    {
     "name": "stdout",
     "output_type": "stream",
     "text": [
      "\n",
      "Basics statistics: \n"
     ]
    },
    {
     "data": {
      "text/html": [
       "<div>\n",
       "<style scoped>\n",
       "    .dataframe tbody tr th:only-of-type {\n",
       "        vertical-align: middle;\n",
       "    }\n",
       "\n",
       "    .dataframe tbody tr th {\n",
       "        vertical-align: top;\n",
       "    }\n",
       "\n",
       "    .dataframe thead th {\n",
       "        text-align: right;\n",
       "    }\n",
       "</style>\n",
       "<table border=\"1\" class=\"dataframe\">\n",
       "  <thead>\n",
       "    <tr style=\"text-align: right;\">\n",
       "      <th></th>\n",
       "      <th>v1</th>\n",
       "      <th>v2</th>\n",
       "      <th>Unnamed: 2</th>\n",
       "      <th>Unnamed: 3</th>\n",
       "      <th>Unnamed: 4</th>\n",
       "    </tr>\n",
       "  </thead>\n",
       "  <tbody>\n",
       "    <tr>\n",
       "      <th>count</th>\n",
       "      <td>5572</td>\n",
       "      <td>5572</td>\n",
       "      <td>50</td>\n",
       "      <td>12</td>\n",
       "      <td>6</td>\n",
       "    </tr>\n",
       "    <tr>\n",
       "      <th>unique</th>\n",
       "      <td>2</td>\n",
       "      <td>5169</td>\n",
       "      <td>43</td>\n",
       "      <td>10</td>\n",
       "      <td>5</td>\n",
       "    </tr>\n",
       "    <tr>\n",
       "      <th>top</th>\n",
       "      <td>ham</td>\n",
       "      <td>Sorry, I'll call later</td>\n",
       "      <td>bt not his girlfrnd... G o o d n i g h t . . .@\"</td>\n",
       "      <td>MK17 92H. 450Ppw 16\"</td>\n",
       "      <td>GNT:-)\"</td>\n",
       "    </tr>\n",
       "    <tr>\n",
       "      <th>freq</th>\n",
       "      <td>4825</td>\n",
       "      <td>30</td>\n",
       "      <td>3</td>\n",
       "      <td>2</td>\n",
       "      <td>2</td>\n",
       "    </tr>\n",
       "  </tbody>\n",
       "</table>\n",
       "</div>"
      ],
      "text/plain": [
       "          v1                      v2  \\\n",
       "count   5572                    5572   \n",
       "unique     2                    5169   \n",
       "top      ham  Sorry, I'll call later   \n",
       "freq    4825                      30   \n",
       "\n",
       "                                               Unnamed: 2  \\\n",
       "count                                                  50   \n",
       "unique                                                 43   \n",
       "top      bt not his girlfrnd... G o o d n i g h t . . .@\"   \n",
       "freq                                                    3   \n",
       "\n",
       "                   Unnamed: 3 Unnamed: 4  \n",
       "count                      12          6  \n",
       "unique                     10          5  \n",
       "top      MK17 92H. 450Ppw 16\"    GNT:-)\"  \n",
       "freq                        2          2  "
      ]
     },
     "metadata": {},
     "output_type": "display_data"
    },
    {
     "name": "stdout",
     "output_type": "stream",
     "text": [
      "\n",
      "Percentage of missing values: \n"
     ]
    },
    {
     "data": {
      "text/plain": [
       "v1             0.000000\n",
       "v2             0.000000\n",
       "Unnamed: 2    99.102656\n",
       "Unnamed: 3    99.784637\n",
       "Unnamed: 4    99.892319\n",
       "dtype: float64"
      ]
     },
     "metadata": {},
     "output_type": "display_data"
    }
   ],
   "source": [
    "print(\"Number of rows and columns:  : {}\".format(df.shape))\n",
    "print()\n",
    "\n",
    "print(\"Display of dataset: \")\n",
    "display(df.head())\n",
    "print()\n",
    "\n",
    "print(\"Basics statistics: \")\n",
    "data_desc = df.describe(include='all')\n",
    "display(data_desc)\n",
    "print()\n",
    "\n",
    "print(\"Percentage of missing values: \")\n",
    "display(100*df.isnull().sum()/df.shape[0])"
   ]
  },
  {
   "cell_type": "code",
   "execution_count": 388,
   "metadata": {},
   "outputs": [
    {
     "data": {
      "text/plain": [
       "v1\n",
       "ham     4825\n",
       "spam     747\n",
       "Name: count, dtype: int64"
      ]
     },
     "execution_count": 388,
     "metadata": {},
     "output_type": "execute_result"
    }
   ],
   "source": [
    "df[\"v1\"].value_counts()"
   ]
  },
  {
   "cell_type": "code",
   "execution_count": 389,
   "metadata": {},
   "outputs": [
    {
     "data": {
      "text/html": [
       "<div>\n",
       "<style scoped>\n",
       "    .dataframe tbody tr th:only-of-type {\n",
       "        vertical-align: middle;\n",
       "    }\n",
       "\n",
       "    .dataframe tbody tr th {\n",
       "        vertical-align: top;\n",
       "    }\n",
       "\n",
       "    .dataframe thead th {\n",
       "        text-align: right;\n",
       "    }\n",
       "</style>\n",
       "<table border=\"1\" class=\"dataframe\">\n",
       "  <thead>\n",
       "    <tr style=\"text-align: right;\">\n",
       "      <th></th>\n",
       "      <th>v1</th>\n",
       "      <th>v2</th>\n",
       "    </tr>\n",
       "  </thead>\n",
       "  <tbody>\n",
       "    <tr>\n",
       "      <th>0</th>\n",
       "      <td>ham</td>\n",
       "      <td>Go until jurong point, crazy.. Available only ...</td>\n",
       "    </tr>\n",
       "    <tr>\n",
       "      <th>1</th>\n",
       "      <td>ham</td>\n",
       "      <td>Ok lar... Joking wif u oni...</td>\n",
       "    </tr>\n",
       "    <tr>\n",
       "      <th>2</th>\n",
       "      <td>spam</td>\n",
       "      <td>Free entry in 2 a wkly comp to win FA Cup fina...</td>\n",
       "    </tr>\n",
       "    <tr>\n",
       "      <th>3</th>\n",
       "      <td>ham</td>\n",
       "      <td>U dun say so early hor... U c already then say...</td>\n",
       "    </tr>\n",
       "    <tr>\n",
       "      <th>4</th>\n",
       "      <td>ham</td>\n",
       "      <td>Nah I don't think he goes to usf, he lives aro...</td>\n",
       "    </tr>\n",
       "  </tbody>\n",
       "</table>\n",
       "</div>"
      ],
      "text/plain": [
       "     v1                                                 v2\n",
       "0   ham  Go until jurong point, crazy.. Available only ...\n",
       "1   ham                      Ok lar... Joking wif u oni...\n",
       "2  spam  Free entry in 2 a wkly comp to win FA Cup fina...\n",
       "3   ham  U dun say so early hor... U c already then say...\n",
       "4   ham  Nah I don't think he goes to usf, he lives aro..."
      ]
     },
     "execution_count": 389,
     "metadata": {},
     "output_type": "execute_result"
    }
   ],
   "source": [
    "# Keep only the two first columns for analysis\n",
    "df = df[[\"v1\",\"v2\"]]\n",
    "df.head()"
   ]
  },
  {
   "cell_type": "markdown",
   "metadata": {},
   "source": [
    "### 2. **Data Cleaning and Preprocessing** "
   ]
  },
  {
   "cell_type": "code",
   "execution_count": 390,
   "metadata": {},
   "outputs": [],
   "source": [
    "# Import Stop words and en_core_web_sm (NLP model)\n",
    "from spacy.lang.en.stop_words import STOP_WORDS\n",
    "nlp = spacy.load('en_core_web_sm')"
   ]
  },
  {
   "cell_type": "code",
   "execution_count": 391,
   "metadata": {},
   "outputs": [
    {
     "data": {
      "text/plain": [
       "0.0"
      ]
     },
     "metadata": {},
     "output_type": "display_data"
    }
   ],
   "source": [
    "# Data Cleaning\n",
    "df[\"v2_format_clean\"] = df[\"v2\"].apply(lambda x:''.join(ch for ch in x if ch.isalnum() or ch==\" \"))\n",
    "df[\"v2_format_clean\"] = df[\"v2_format_clean\"].apply(lambda x: x.replace(\" +\",\" \").lower().strip())\n",
    "df[\"v2_format_clean\"] = df[\"v2_format_clean\"].apply(lambda x: \" \".join([token.lemma_ for token in nlp(x) if (token.lemma_ not in STOP_WORDS) & (token.text not in STOP_WORDS)]))\n",
    "\n",
    "display(100*df[\"v2_format_clean\"].isnull().sum()/df.shape[0])"
   ]
  },
  {
   "cell_type": "code",
   "execution_count": 392,
   "metadata": {},
   "outputs": [
    {
     "data": {
      "text/html": [
       "<div>\n",
       "<style scoped>\n",
       "    .dataframe tbody tr th:only-of-type {\n",
       "        vertical-align: middle;\n",
       "    }\n",
       "\n",
       "    .dataframe tbody tr th {\n",
       "        vertical-align: top;\n",
       "    }\n",
       "\n",
       "    .dataframe thead th {\n",
       "        text-align: right;\n",
       "    }\n",
       "</style>\n",
       "<table border=\"1\" class=\"dataframe\">\n",
       "  <thead>\n",
       "    <tr style=\"text-align: right;\">\n",
       "      <th></th>\n",
       "      <th>v1</th>\n",
       "      <th>v2</th>\n",
       "      <th>v2_format_clean</th>\n",
       "    </tr>\n",
       "  </thead>\n",
       "  <tbody>\n",
       "    <tr>\n",
       "      <th>0</th>\n",
       "      <td>ham</td>\n",
       "      <td>Go until jurong point, crazy.. Available only ...</td>\n",
       "      <td>jurong point crazy available bugis n great wor...</td>\n",
       "    </tr>\n",
       "    <tr>\n",
       "      <th>1</th>\n",
       "      <td>ham</td>\n",
       "      <td>Ok lar... Joking wif u oni...</td>\n",
       "      <td>ok lar joke wif u oni</td>\n",
       "    </tr>\n",
       "    <tr>\n",
       "      <th>2</th>\n",
       "      <td>spam</td>\n",
       "      <td>Free entry in 2 a wkly comp to win FA Cup fina...</td>\n",
       "      <td>free entry 2 wkly comp win fa cup final tkts 2...</td>\n",
       "    </tr>\n",
       "    <tr>\n",
       "      <th>3</th>\n",
       "      <td>ham</td>\n",
       "      <td>U dun say so early hor... U c already then say...</td>\n",
       "      <td>u dun early hor u c</td>\n",
       "    </tr>\n",
       "    <tr>\n",
       "      <th>4</th>\n",
       "      <td>ham</td>\n",
       "      <td>Nah I don't think he goes to usf, he lives aro...</td>\n",
       "      <td>nah think usf live</td>\n",
       "    </tr>\n",
       "  </tbody>\n",
       "</table>\n",
       "</div>"
      ],
      "text/plain": [
       "     v1                                                 v2  \\\n",
       "0   ham  Go until jurong point, crazy.. Available only ...   \n",
       "1   ham                      Ok lar... Joking wif u oni...   \n",
       "2  spam  Free entry in 2 a wkly comp to win FA Cup fina...   \n",
       "3   ham  U dun say so early hor... U c already then say...   \n",
       "4   ham  Nah I don't think he goes to usf, he lives aro...   \n",
       "\n",
       "                                     v2_format_clean  \n",
       "0  jurong point crazy available bugis n great wor...  \n",
       "1                              ok lar joke wif u oni  \n",
       "2  free entry 2 wkly comp win fa cup final tkts 2...  \n",
       "3                                u dun early hor u c  \n",
       "4                                 nah think usf live  "
      ]
     },
     "execution_count": 392,
     "metadata": {},
     "output_type": "execute_result"
    }
   ],
   "source": [
    "df.head()"
   ]
  },
  {
   "cell_type": "code",
   "execution_count": 393,
   "metadata": {},
   "outputs": [
    {
     "data": {
      "text/html": [
       "<div>\n",
       "<style scoped>\n",
       "    .dataframe tbody tr th:only-of-type {\n",
       "        vertical-align: middle;\n",
       "    }\n",
       "\n",
       "    .dataframe tbody tr th {\n",
       "        vertical-align: top;\n",
       "    }\n",
       "\n",
       "    .dataframe thead th {\n",
       "        text-align: right;\n",
       "    }\n",
       "</style>\n",
       "<table border=\"1\" class=\"dataframe\">\n",
       "  <thead>\n",
       "    <tr style=\"text-align: right;\">\n",
       "      <th></th>\n",
       "      <th>v1</th>\n",
       "      <th>v2</th>\n",
       "      <th>v2_format_clean</th>\n",
       "    </tr>\n",
       "  </thead>\n",
       "  <tbody>\n",
       "    <tr>\n",
       "      <th>0</th>\n",
       "      <td>0</td>\n",
       "      <td>Go until jurong point, crazy.. Available only ...</td>\n",
       "      <td>jurong point crazy available bugis n great wor...</td>\n",
       "    </tr>\n",
       "    <tr>\n",
       "      <th>1</th>\n",
       "      <td>0</td>\n",
       "      <td>Ok lar... Joking wif u oni...</td>\n",
       "      <td>ok lar joke wif u oni</td>\n",
       "    </tr>\n",
       "    <tr>\n",
       "      <th>2</th>\n",
       "      <td>1</td>\n",
       "      <td>Free entry in 2 a wkly comp to win FA Cup fina...</td>\n",
       "      <td>free entry 2 wkly comp win fa cup final tkts 2...</td>\n",
       "    </tr>\n",
       "    <tr>\n",
       "      <th>3</th>\n",
       "      <td>0</td>\n",
       "      <td>U dun say so early hor... U c already then say...</td>\n",
       "      <td>u dun early hor u c</td>\n",
       "    </tr>\n",
       "    <tr>\n",
       "      <th>4</th>\n",
       "      <td>0</td>\n",
       "      <td>Nah I don't think he goes to usf, he lives aro...</td>\n",
       "      <td>nah think usf live</td>\n",
       "    </tr>\n",
       "  </tbody>\n",
       "</table>\n",
       "</div>"
      ],
      "text/plain": [
       "   v1                                                 v2  \\\n",
       "0   0  Go until jurong point, crazy.. Available only ...   \n",
       "1   0                      Ok lar... Joking wif u oni...   \n",
       "2   1  Free entry in 2 a wkly comp to win FA Cup fina...   \n",
       "3   0  U dun say so early hor... U c already then say...   \n",
       "4   0  Nah I don't think he goes to usf, he lives aro...   \n",
       "\n",
       "                                     v2_format_clean  \n",
       "0  jurong point crazy available bugis n great wor...  \n",
       "1                              ok lar joke wif u oni  \n",
       "2  free entry 2 wkly comp win fa cup final tkts 2...  \n",
       "3                                u dun early hor u c  \n",
       "4                                 nah think usf live  "
      ]
     },
     "execution_count": 393,
     "metadata": {},
     "output_type": "execute_result"
    }
   ],
   "source": [
    "# Encode ham and spam into 0 and 1\n",
    "label_encoder = LabelEncoder()\n",
    "df['v1'] = label_encoder.fit_transform(df['v1'])\n",
    "df.head()"
   ]
  },
  {
   "cell_type": "code",
   "execution_count": 394,
   "metadata": {},
   "outputs": [],
   "source": [
    "# Encoding mails\n",
    "tokenizer = tf.keras.preprocessing.text.Tokenizer(num_words=1000) # instanciate the tokenizer\n",
    "tokenizer.fit_on_texts(df[\"v2_format_clean\"])\n",
    "df[\"v2_encoded\"] = tokenizer.texts_to_sequences(df.v2_format_clean)\n",
    "df[\"len_v2\"] = df[\"v2_encoded\"].apply(lambda x: len(x))\n",
    "df = df[df[\"len_v2\"]!=0]"
   ]
  },
  {
   "cell_type": "markdown",
   "metadata": {},
   "source": [
    "Tensorflow is incapable as of now to create a tensor dataset based on lists of different lengths, we will have to store all of our encoded texts into a single numpy array before creating the tensorflow dataset. Not all our sequences are the same length, this is where the tf.keras.preprocessing.sequence.pad_sequences comes in handy, it will add zero padding at the beginning (padding=\"pre\") or at the end (padding=\"post\") of your sequences so they all have equal length. Pad the sequences"
   ]
  },
  {
   "cell_type": "code",
   "execution_count": 395,
   "metadata": {},
   "outputs": [],
   "source": [
    "df_pad = tf.keras.preprocessing.sequence.pad_sequences(df.v2_encoded, padding=\"post\")"
   ]
  },
  {
   "cell_type": "code",
   "execution_count": 396,
   "metadata": {},
   "outputs": [],
   "source": [
    "full_ds = tf.data.Dataset.from_tensor_slices((df_pad, df.v1.values))"
   ]
  },
  {
   "cell_type": "code",
   "execution_count": 397,
   "metadata": {},
   "outputs": [
    {
     "name": "stdout",
     "output_type": "stream",
     "text": [
      "tf.Tensor(\n",
      "[[328 138  26 ...   0   0   0]\n",
      " [339  80   0 ...   0   0   0]\n",
      " [ 30  68 104 ...   0   0   0]\n",
      " ...\n",
      " [177   0   0 ...   0   0   0]\n",
      " [  1   0   0 ...   0   0   0]\n",
      " [830 352 831 ...   0   0   0]], shape=(64, 47), dtype=int32) tf.Tensor(\n",
      "[0 0 0 0 0 0 0 1 1 0 1 0 0 0 0 1 0 0 0 0 0 0 0 0 0 0 0 0 0 0 0 0 0 0 0 0 1\n",
      " 1 0 1 0 0 1 0 0 0 0 0 0 0 0 0 0 0 0 0 1 0 0 0 0 0 0 1], shape=(64,), dtype=int64)\n"
     ]
    }
   ],
   "source": [
    "# Train Test Split\n",
    "TAKE_SIZE = int(0.7*df.shape[0])\n",
    "\n",
    "train_data = full_ds.take(TAKE_SIZE).shuffle(TAKE_SIZE)\n",
    "train_data = train_data.batch(64)\n",
    "\n",
    "test_data = full_ds.skip(TAKE_SIZE)\n",
    "test_data = test_data.batch(64)\n",
    "\n",
    "for mail, spam_ham in train_data.take(1):\n",
    "  print(mail, spam_ham)"
   ]
  },
  {
   "cell_type": "markdown",
   "metadata": {},
   "source": [
    "### 3. **Model training**"
   ]
  },
  {
   "cell_type": "markdown",
   "metadata": {},
   "source": [
    "a) Simple RNN"
   ]
  },
  {
   "cell_type": "code",
   "execution_count": 398,
   "metadata": {},
   "outputs": [],
   "source": [
    "vocab_size = 1000\n",
    "model = tf.keras.Sequential([\n",
    "                  # Word Embedding layer           \n",
    "                  Embedding(vocab_size+1, 64, input_shape=[mail.shape[1],],name=\"embedding\"),\n",
    "                  # Gobal average pooling\n",
    "                  SimpleRNN(units=64, return_sequences=True), # maintains the sequential nature\n",
    "                  SimpleRNN(units=32, return_sequences=False), # returns the last output\n",
    "                  # Dense layers once the data is flat\n",
    "                  Dense(16, activation='relu'),\n",
    "                  Dense(8, activation='relu'),\n",
    "\n",
    "                  # output layer with as many neurons as the number of classes\n",
    "                  # for the target variable and softmax activation\n",
    "                  Dense(1, activation=\"sigmoid\")\n",
    "])"
   ]
  },
  {
   "cell_type": "code",
   "execution_count": 399,
   "metadata": {},
   "outputs": [
    {
     "name": "stdout",
     "output_type": "stream",
     "text": [
      "Model: \"sequential_30\"\n",
      "_________________________________________________________________\n",
      " Layer (type)                Output Shape              Param #   \n",
      "=================================================================\n",
      " embedding (Embedding)       (None, 47, 64)            64064     \n",
      "                                                                 \n",
      " simple_rnn_26 (SimpleRNN)   (None, 47, 64)            8256      \n",
      "                                                                 \n",
      " simple_rnn_27 (SimpleRNN)   (None, 32)                3104      \n",
      "                                                                 \n",
      " dense_96 (Dense)            (None, 16)                528       \n",
      "                                                                 \n",
      " dense_97 (Dense)            (None, 8)                 136       \n",
      "                                                                 \n",
      " dense_98 (Dense)            (None, 1)                 9         \n",
      "                                                                 \n",
      "=================================================================\n",
      "Total params: 76097 (297.25 KB)\n",
      "Trainable params: 76097 (297.25 KB)\n",
      "Non-trainable params: 0 (0.00 Byte)\n",
      "_________________________________________________________________\n"
     ]
    }
   ],
   "source": [
    "model.summary()"
   ]
  },
  {
   "cell_type": "code",
   "execution_count": 400,
   "metadata": {},
   "outputs": [
    {
     "name": "stderr",
     "output_type": "stream",
     "text": [
      "WARNING:absl:At this time, the v2.11+ optimizer `tf.keras.optimizers.Adam` runs slowly on M1/M2 Macs, please use the legacy Keras optimizer instead, located at `tf.keras.optimizers.legacy.Adam`.\n"
     ]
    }
   ],
   "source": [
    "optimizer= tf.keras.optimizers.Adam()\n",
    "\n",
    "model.compile(optimizer=optimizer,\n",
    "              loss=tf.keras.losses.BinaryCrossentropy(),\n",
    "              metrics=[tf.keras.metrics.BinaryAccuracy()])"
   ]
  },
  {
   "cell_type": "code",
   "execution_count": 401,
   "metadata": {},
   "outputs": [
    {
     "data": {
      "text/plain": [
       "{0: 0.5798157274480394, 1: 3.632214765100671}"
      ]
     },
     "execution_count": 401,
     "metadata": {},
     "output_type": "execute_result"
    }
   ],
   "source": [
    "# Weight Categories\n",
    "\n",
    "weights = 1/(df[\"v1\"]).value_counts()\n",
    "weights = weights * len(df)/2\n",
    "weights = {index : values for index , values in zip(weights.index,weights.values)}\n",
    "weights"
   ]
  },
  {
   "cell_type": "code",
   "execution_count": 402,
   "metadata": {},
   "outputs": [
    {
     "name": "stdout",
     "output_type": "stream",
     "text": [
      "Epoch 1/20\n"
     ]
    },
    {
     "name": "stdout",
     "output_type": "stream",
     "text": [
      "60/60 [==============================] - 1s 12ms/step - loss: 0.4363 - binary_accuracy: 0.8503 - val_loss: 0.2419 - val_binary_accuracy: 0.9520\n",
      "Epoch 2/20\n",
      "60/60 [==============================] - 1s 10ms/step - loss: 0.2056 - binary_accuracy: 0.9535 - val_loss: 0.2150 - val_binary_accuracy: 0.9501\n",
      "Epoch 3/20\n",
      "60/60 [==============================] - 1s 10ms/step - loss: 0.1345 - binary_accuracy: 0.9704 - val_loss: 0.1482 - val_binary_accuracy: 0.9624\n",
      "Epoch 4/20\n",
      "60/60 [==============================] - 1s 10ms/step - loss: 0.1232 - binary_accuracy: 0.9747 - val_loss: 0.1737 - val_binary_accuracy: 0.9495\n",
      "Epoch 5/20\n",
      "60/60 [==============================] - 1s 10ms/step - loss: 0.1132 - binary_accuracy: 0.9823 - val_loss: 0.0910 - val_binary_accuracy: 0.9778\n",
      "Epoch 6/20\n",
      "60/60 [==============================] - 1s 10ms/step - loss: 0.1062 - binary_accuracy: 0.9583 - val_loss: 0.2815 - val_binary_accuracy: 0.9292\n",
      "Epoch 7/20\n",
      "60/60 [==============================] - 1s 10ms/step - loss: 0.0693 - binary_accuracy: 0.9784 - val_loss: 0.1290 - val_binary_accuracy: 0.9667\n",
      "Epoch 8/20\n",
      "60/60 [==============================] - 1s 10ms/step - loss: 0.0550 - binary_accuracy: 0.9886 - val_loss: 0.1088 - val_binary_accuracy: 0.9723\n",
      "Epoch 9/20\n",
      "60/60 [==============================] - 1s 10ms/step - loss: 0.0759 - binary_accuracy: 0.9757 - val_loss: 0.1089 - val_binary_accuracy: 0.9698\n",
      "Epoch 10/20\n",
      "60/60 [==============================] - 1s 10ms/step - loss: 0.0523 - binary_accuracy: 0.9871 - val_loss: 0.1284 - val_binary_accuracy: 0.9637\n",
      "Epoch 11/20\n",
      "60/60 [==============================] - 1s 10ms/step - loss: 0.0572 - binary_accuracy: 0.9807 - val_loss: 0.1601 - val_binary_accuracy: 0.9569\n",
      "Epoch 12/20\n",
      "60/60 [==============================] - 1s 10ms/step - loss: 0.1400 - binary_accuracy: 0.9564 - val_loss: 0.2088 - val_binary_accuracy: 0.9520\n",
      "Epoch 13/20\n",
      "60/60 [==============================] - 1s 10ms/step - loss: 0.0771 - binary_accuracy: 0.9813 - val_loss: 0.1659 - val_binary_accuracy: 0.9557\n",
      "Epoch 14/20\n",
      "60/60 [==============================] - 1s 10ms/step - loss: 0.0478 - binary_accuracy: 0.9820 - val_loss: 0.1488 - val_binary_accuracy: 0.9569\n",
      "Epoch 15/20\n",
      "60/60 [==============================] - 1s 10ms/step - loss: 0.0429 - binary_accuracy: 0.9863 - val_loss: 0.1457 - val_binary_accuracy: 0.9600\n",
      "Epoch 16/20\n",
      "60/60 [==============================] - 1s 10ms/step - loss: 0.0337 - binary_accuracy: 0.9884 - val_loss: 0.1865 - val_binary_accuracy: 0.9446\n",
      "Epoch 17/20\n",
      "60/60 [==============================] - 1s 10ms/step - loss: 0.0939 - binary_accuracy: 0.9572 - val_loss: 0.1508 - val_binary_accuracy: 0.9421\n",
      "Epoch 18/20\n",
      "60/60 [==============================] - 1s 10ms/step - loss: 0.0399 - binary_accuracy: 0.9847 - val_loss: 0.1380 - val_binary_accuracy: 0.9643\n",
      "Epoch 19/20\n",
      "60/60 [==============================] - 1s 10ms/step - loss: 0.0322 - binary_accuracy: 0.9908 - val_loss: 0.1316 - val_binary_accuracy: 0.9667\n",
      "Epoch 20/20\n",
      "60/60 [==============================] - 1s 10ms/step - loss: 0.0226 - binary_accuracy: 0.9939 - val_loss: 0.2181 - val_binary_accuracy: 0.9563\n"
     ]
    },
    {
     "data": {
      "text/plain": [
       "<keras.src.callbacks.History at 0x355464bd0>"
      ]
     },
     "execution_count": 402,
     "metadata": {},
     "output_type": "execute_result"
    }
   ],
   "source": [
    "# Model training \n",
    "model.fit(train_data,\n",
    "          epochs=20, \n",
    "          validation_data=test_data,\n",
    "          class_weight=weights)"
   ]
  },
  {
   "cell_type": "code",
   "execution_count": 403,
   "metadata": {},
   "outputs": [
    {
     "name": "stderr",
     "output_type": "stream",
     "text": [
      "/Users/simoncld/anaconda3/lib/python3.11/site-packages/keras/src/engine/training.py:3079: UserWarning:\n",
      "\n",
      "You are saving your model as an HDF5 file via `model.save()`. This file format is considered legacy. We recommend using instead the native Keras format, e.g. `model.save('my_model.keras')`.\n",
      "\n"
     ]
    }
   ],
   "source": [
    "model.save(\"./model/model_simpleRNN.h5\")\n",
    "import json\n",
    "json.dump(model.history.history, open(\"./history/simpleRNN_history.json\", 'w'))"
   ]
  },
  {
   "cell_type": "markdown",
   "metadata": {},
   "source": [
    "b) GRU"
   ]
  },
  {
   "cell_type": "code",
   "execution_count": 404,
   "metadata": {},
   "outputs": [],
   "source": [
    "vocab_size = 1000\n",
    "model_gru = tf.keras.Sequential([\n",
    "                  Embedding(vocab_size+1, 64, input_shape=[mail.shape[1],],name=\"embedding\"),\n",
    "                  GRU(units=64, return_sequences=True), # maintains the sequential nature\n",
    "                  GRU(units=32, return_sequences=False), # returns the last output\n",
    "                  Dense(16, activation='relu'),\n",
    "                  Dense(8, activation='relu'),\n",
    "\n",
    "                  Dense(1, activation=\"sigmoid\")\n",
    "])"
   ]
  },
  {
   "cell_type": "code",
   "execution_count": 405,
   "metadata": {},
   "outputs": [
    {
     "name": "stdout",
     "output_type": "stream",
     "text": [
      "Model: \"sequential_31\"\n",
      "_________________________________________________________________\n",
      " Layer (type)                Output Shape              Param #   \n",
      "=================================================================\n",
      " embedding (Embedding)       (None, 47, 64)            64064     \n",
      "                                                                 \n",
      " gru_18 (GRU)                (None, 47, 64)            24960     \n",
      "                                                                 \n",
      " gru_19 (GRU)                (None, 32)                9408      \n",
      "                                                                 \n",
      " dense_99 (Dense)            (None, 16)                528       \n",
      "                                                                 \n",
      " dense_100 (Dense)           (None, 8)                 136       \n",
      "                                                                 \n",
      " dense_101 (Dense)           (None, 1)                 9         \n",
      "                                                                 \n",
      "=================================================================\n",
      "Total params: 99105 (387.13 KB)\n",
      "Trainable params: 99105 (387.13 KB)\n",
      "Non-trainable params: 0 (0.00 Byte)\n",
      "_________________________________________________________________\n"
     ]
    }
   ],
   "source": [
    "model_gru.summary()"
   ]
  },
  {
   "cell_type": "code",
   "execution_count": 406,
   "metadata": {},
   "outputs": [
    {
     "name": "stderr",
     "output_type": "stream",
     "text": [
      "WARNING:absl:At this time, the v2.11+ optimizer `tf.keras.optimizers.Adam` runs slowly on M1/M2 Macs, please use the legacy Keras optimizer instead, located at `tf.keras.optimizers.legacy.Adam`.\n"
     ]
    }
   ],
   "source": [
    "optimizer= tf.keras.optimizers.Adam()\n",
    "\n",
    "model_gru.compile(optimizer=optimizer,\n",
    "              loss=tf.keras.losses.BinaryCrossentropy(),\n",
    "              metrics=[tf.keras.metrics.BinaryAccuracy()])"
   ]
  },
  {
   "cell_type": "code",
   "execution_count": 407,
   "metadata": {},
   "outputs": [
    {
     "name": "stdout",
     "output_type": "stream",
     "text": [
      "Epoch 1/20\n"
     ]
    },
    {
     "name": "stdout",
     "output_type": "stream",
     "text": [
      "60/60 [==============================] - 3s 27ms/step - loss: 0.6927 - binary_accuracy: 0.7878 - val_loss: 0.6822 - val_binary_accuracy: 0.8615\n",
      "Epoch 2/20\n",
      "60/60 [==============================] - 1s 23ms/step - loss: 0.6924 - binary_accuracy: 0.6750 - val_loss: 0.6920 - val_binary_accuracy: 0.8615\n",
      "Epoch 3/20\n",
      "60/60 [==============================] - 1s 24ms/step - loss: 0.6925 - binary_accuracy: 0.5253 - val_loss: 0.6896 - val_binary_accuracy: 0.8615\n",
      "Epoch 4/20\n",
      "60/60 [==============================] - 1s 24ms/step - loss: 0.6925 - binary_accuracy: 0.4351 - val_loss: 0.6948 - val_binary_accuracy: 0.1392\n",
      "Epoch 5/20\n",
      "60/60 [==============================] - 1s 23ms/step - loss: 0.6924 - binary_accuracy: 0.2693 - val_loss: 0.6932 - val_binary_accuracy: 0.1392\n",
      "Epoch 6/20\n",
      "60/60 [==============================] - 1s 23ms/step - loss: 0.6924 - binary_accuracy: 0.5106 - val_loss: 0.6938 - val_binary_accuracy: 0.1392\n",
      "Epoch 7/20\n",
      "60/60 [==============================] - 1s 23ms/step - loss: 0.6924 - binary_accuracy: 0.3202 - val_loss: 0.6927 - val_binary_accuracy: 0.8615\n",
      "Epoch 8/20\n",
      "60/60 [==============================] - 1s 23ms/step - loss: 0.6923 - binary_accuracy: 0.2986 - val_loss: 0.6939 - val_binary_accuracy: 0.1392\n",
      "Epoch 9/20\n",
      "60/60 [==============================] - 1s 22ms/step - loss: 0.6924 - binary_accuracy: 0.3060 - val_loss: 0.6928 - val_binary_accuracy: 0.8615\n",
      "Epoch 10/20\n",
      "60/60 [==============================] - 1s 22ms/step - loss: 0.6924 - binary_accuracy: 0.1624 - val_loss: 0.6940 - val_binary_accuracy: 0.1392\n",
      "Epoch 11/20\n",
      "60/60 [==============================] - 1s 23ms/step - loss: 0.6924 - binary_accuracy: 0.2405 - val_loss: 0.6942 - val_binary_accuracy: 0.1392\n",
      "Epoch 12/20\n",
      "60/60 [==============================] - 1s 23ms/step - loss: 0.6924 - binary_accuracy: 0.3469 - val_loss: 0.6924 - val_binary_accuracy: 0.8615\n",
      "Epoch 13/20\n",
      "60/60 [==============================] - 1s 23ms/step - loss: 0.6923 - binary_accuracy: 0.8627 - val_loss: 0.6921 - val_binary_accuracy: 0.8615\n",
      "Epoch 14/20\n",
      "60/60 [==============================] - 1s 23ms/step - loss: 0.6923 - binary_accuracy: 0.8627 - val_loss: 0.6909 - val_binary_accuracy: 0.8615\n",
      "Epoch 15/20\n",
      "60/60 [==============================] - 1s 23ms/step - loss: 0.6926 - binary_accuracy: 0.8627 - val_loss: 0.6916 - val_binary_accuracy: 0.8615\n",
      "Epoch 16/20\n",
      "60/60 [==============================] - 1s 23ms/step - loss: 0.6927 - binary_accuracy: 0.6774 - val_loss: 0.6940 - val_binary_accuracy: 0.1392\n",
      "Epoch 17/20\n",
      "60/60 [==============================] - 1s 22ms/step - loss: 0.6922 - binary_accuracy: 0.1381 - val_loss: 0.6943 - val_binary_accuracy: 0.1392\n",
      "Epoch 18/20\n",
      "60/60 [==============================] - 1s 23ms/step - loss: 0.6927 - binary_accuracy: 0.5153 - val_loss: 0.6750 - val_binary_accuracy: 0.8615\n",
      "Epoch 19/20\n",
      "60/60 [==============================] - 1s 23ms/step - loss: 0.6926 - binary_accuracy: 0.5238 - val_loss: 0.6943 - val_binary_accuracy: 0.1392\n",
      "Epoch 20/20\n",
      "60/60 [==============================] - 1s 23ms/step - loss: 0.6921 - binary_accuracy: 0.4900 - val_loss: 0.6923 - val_binary_accuracy: 0.8615\n"
     ]
    },
    {
     "data": {
      "text/plain": [
       "<keras.src.callbacks.History at 0x355941a10>"
      ]
     },
     "execution_count": 407,
     "metadata": {},
     "output_type": "execute_result"
    }
   ],
   "source": [
    "model_gru.fit(train_data,\n",
    "              epochs=20, \n",
    "              validation_data=test_data,\n",
    "              class_weight=weights)"
   ]
  },
  {
   "cell_type": "code",
   "execution_count": 408,
   "metadata": {},
   "outputs": [],
   "source": [
    "model_gru.save(\"./model/model_gru.h5\")\n",
    "import json\n",
    "json.dump(model_gru.history.history, open(\"./history/GRU_history.json\", 'w'))"
   ]
  },
  {
   "cell_type": "markdown",
   "metadata": {},
   "source": [
    "c) LSTM"
   ]
  },
  {
   "cell_type": "code",
   "execution_count": 409,
   "metadata": {},
   "outputs": [],
   "source": [
    "vocab_size = 1000\n",
    "\n",
    "model_lstm = tf.keras.Sequential([\n",
    "                  Embedding(vocab_size+1, 64, input_shape=[mail.shape[1],],name=\"embedding\"),\n",
    "                  LSTM(units=64, return_sequences=True), # maintains the sequential nature\n",
    "                  LSTM(units=32, return_sequences=False), # returns the last output\n",
    "                  Dense(16, activation='relu'),\n",
    "                  Dense(8, activation='relu'),\n",
    "\n",
    "                  Dense(1, activation=\"sigmoid\", name=\"last\")\n",
    "])\n"
   ]
  },
  {
   "cell_type": "code",
   "execution_count": 410,
   "metadata": {},
   "outputs": [
    {
     "name": "stdout",
     "output_type": "stream",
     "text": [
      "Model: \"sequential_32\"\n",
      "_________________________________________________________________\n",
      " Layer (type)                Output Shape              Param #   \n",
      "=================================================================\n",
      " embedding (Embedding)       (None, 47, 64)            64064     \n",
      "                                                                 \n",
      " lstm_30 (LSTM)              (None, 47, 64)            33024     \n",
      "                                                                 \n",
      " lstm_31 (LSTM)              (None, 32)                12416     \n",
      "                                                                 \n",
      " dense_102 (Dense)           (None, 16)                528       \n",
      "                                                                 \n",
      " dense_103 (Dense)           (None, 8)                 136       \n",
      "                                                                 \n",
      " last (Dense)                (None, 1)                 9         \n",
      "                                                                 \n",
      "=================================================================\n",
      "Total params: 110177 (430.38 KB)\n",
      "Trainable params: 110177 (430.38 KB)\n",
      "Non-trainable params: 0 (0.00 Byte)\n",
      "_________________________________________________________________\n"
     ]
    }
   ],
   "source": [
    "model_lstm.summary()"
   ]
  },
  {
   "cell_type": "code",
   "execution_count": 411,
   "metadata": {},
   "outputs": [
    {
     "name": "stderr",
     "output_type": "stream",
     "text": [
      "WARNING:absl:At this time, the v2.11+ optimizer `tf.keras.optimizers.Adam` runs slowly on M1/M2 Macs, please use the legacy Keras optimizer instead, located at `tf.keras.optimizers.legacy.Adam`.\n"
     ]
    }
   ],
   "source": [
    "optimizer= tf.keras.optimizers.Adam()\n",
    "\n",
    "model_lstm.compile(optimizer=optimizer,\n",
    "              loss=tf.keras.losses.BinaryCrossentropy(),\n",
    "              metrics=[tf.keras.metrics.BinaryAccuracy()])"
   ]
  },
  {
   "cell_type": "code",
   "execution_count": 412,
   "metadata": {},
   "outputs": [
    {
     "name": "stdout",
     "output_type": "stream",
     "text": [
      "Epoch 1/100\n"
     ]
    },
    {
     "name": "stdout",
     "output_type": "stream",
     "text": [
      "60/60 [==============================] - 4s 34ms/step - loss: 0.6930 - binary_accuracy: 0.2133 - val_loss: 0.6875 - val_binary_accuracy: 0.8615\n",
      "Epoch 2/100\n",
      "60/60 [==============================] - 2s 29ms/step - loss: 0.6927 - binary_accuracy: 0.7833 - val_loss: 0.6936 - val_binary_accuracy: 0.1392\n",
      "Epoch 3/100\n",
      "60/60 [==============================] - 2s 28ms/step - loss: 0.6928 - binary_accuracy: 0.3765 - val_loss: 0.6907 - val_binary_accuracy: 0.8615\n",
      "Epoch 4/100\n",
      "60/60 [==============================] - 2s 28ms/step - loss: 0.6898 - binary_accuracy: 0.8157 - val_loss: 0.6659 - val_binary_accuracy: 0.3602\n",
      "Epoch 5/100\n",
      "60/60 [==============================] - 2s 28ms/step - loss: 0.2661 - binary_accuracy: 0.9570 - val_loss: 0.1807 - val_binary_accuracy: 0.9791\n",
      "Epoch 6/100\n",
      "60/60 [==============================] - 2s 28ms/step - loss: 0.1858 - binary_accuracy: 0.9741 - val_loss: 0.1428 - val_binary_accuracy: 0.9784\n",
      "Epoch 7/100\n",
      "60/60 [==============================] - 2s 29ms/step - loss: 0.1569 - binary_accuracy: 0.9802 - val_loss: 0.1870 - val_binary_accuracy: 0.9637\n",
      "Epoch 8/100\n",
      "60/60 [==============================] - 2s 27ms/step - loss: 0.1665 - binary_accuracy: 0.9702 - val_loss: 0.1847 - val_binary_accuracy: 0.9600\n",
      "Epoch 9/100\n",
      "60/60 [==============================] - 2s 28ms/step - loss: 0.1585 - binary_accuracy: 0.9704 - val_loss: 0.1822 - val_binary_accuracy: 0.9612\n",
      "Epoch 10/100\n",
      "60/60 [==============================] - 2s 28ms/step - loss: 0.1488 - binary_accuracy: 0.9718 - val_loss: 0.1583 - val_binary_accuracy: 0.9667\n",
      "Epoch 11/100\n",
      "60/60 [==============================] - 2s 28ms/step - loss: 0.1463 - binary_accuracy: 0.9794 - val_loss: 0.1614 - val_binary_accuracy: 0.9723\n",
      "Epoch 12/100\n",
      "60/60 [==============================] - 2s 27ms/step - loss: 0.1656 - binary_accuracy: 0.9570 - val_loss: 0.1719 - val_binary_accuracy: 0.9563\n",
      "Epoch 13/100\n",
      "60/60 [==============================] - 2s 27ms/step - loss: 0.1402 - binary_accuracy: 0.9696 - val_loss: 0.1692 - val_binary_accuracy: 0.9606\n",
      "Epoch 14/100\n",
      "60/60 [==============================] - 2s 28ms/step - loss: 0.2227 - binary_accuracy: 0.8994 - val_loss: 0.4586 - val_binary_accuracy: 0.6552\n",
      "Epoch 15/100\n",
      "60/60 [==============================] - 2s 28ms/step - loss: 0.4529 - binary_accuracy: 0.6447 - val_loss: 0.4715 - val_binary_accuracy: 0.6619\n",
      "Epoch 16/100\n",
      "60/60 [==============================] - 2s 28ms/step - loss: 0.4364 - binary_accuracy: 0.6668 - val_loss: 0.4886 - val_binary_accuracy: 0.6749\n",
      "Epoch 17/100\n",
      "60/60 [==============================] - 2s 28ms/step - loss: 0.4295 - binary_accuracy: 0.6763 - val_loss: 0.4864 - val_binary_accuracy: 0.6798\n",
      "Epoch 18/100\n",
      "60/60 [==============================] - 2s 27ms/step - loss: 0.4216 - binary_accuracy: 0.6814 - val_loss: 0.4672 - val_binary_accuracy: 0.6860\n",
      "Epoch 19/100\n",
      "60/60 [==============================] - 2s 27ms/step - loss: 0.4165 - binary_accuracy: 0.6888 - val_loss: 0.4768 - val_binary_accuracy: 0.6909\n",
      "Epoch 20/100\n",
      "60/60 [==============================] - 2s 27ms/step - loss: 0.4088 - binary_accuracy: 0.6990 - val_loss: 0.4591 - val_binary_accuracy: 0.7081\n",
      "Epoch 21/100\n",
      "60/60 [==============================] - 2s 28ms/step - loss: 0.3932 - binary_accuracy: 0.7136 - val_loss: 0.4422 - val_binary_accuracy: 0.7204\n",
      "Epoch 22/100\n",
      "60/60 [==============================] - 2s 28ms/step - loss: 0.3887 - binary_accuracy: 0.7194 - val_loss: 0.4465 - val_binary_accuracy: 0.7260\n",
      "Epoch 23/100\n",
      "60/60 [==============================] - 2s 28ms/step - loss: 0.3847 - binary_accuracy: 0.7286 - val_loss: 0.4292 - val_binary_accuracy: 0.7358\n",
      "Epoch 24/100\n",
      "60/60 [==============================] - 2s 28ms/step - loss: 0.3879 - binary_accuracy: 0.7350 - val_loss: 0.4498 - val_binary_accuracy: 0.7451\n",
      "Epoch 25/100\n",
      "60/60 [==============================] - 2s 27ms/step - loss: 0.3775 - binary_accuracy: 0.7474 - val_loss: 0.4383 - val_binary_accuracy: 0.7469\n",
      "Epoch 26/100\n",
      "60/60 [==============================] - 2s 27ms/step - loss: 0.3709 - binary_accuracy: 0.7505 - val_loss: 0.4252 - val_binary_accuracy: 0.7482\n",
      "Epoch 27/100\n",
      "60/60 [==============================] - 2s 28ms/step - loss: 0.3704 - binary_accuracy: 0.7505 - val_loss: 0.4289 - val_binary_accuracy: 0.7494\n",
      "Epoch 28/100\n",
      "60/60 [==============================] - 2s 28ms/step - loss: 0.3682 - binary_accuracy: 0.7526 - val_loss: 0.4291 - val_binary_accuracy: 0.7494\n",
      "Epoch 29/100\n",
      "60/60 [==============================] - 2s 28ms/step - loss: 0.3603 - binary_accuracy: 0.7532 - val_loss: 0.4293 - val_binary_accuracy: 0.7494\n",
      "Epoch 30/100\n",
      "60/60 [==============================] - 2s 29ms/step - loss: 0.3598 - binary_accuracy: 0.7537 - val_loss: 0.4195 - val_binary_accuracy: 0.7494\n",
      "Epoch 31/100\n",
      "60/60 [==============================] - 2s 27ms/step - loss: 0.3598 - binary_accuracy: 0.7540 - val_loss: 0.4237 - val_binary_accuracy: 0.7482\n",
      "Epoch 32/100\n",
      "60/60 [==============================] - 2s 27ms/step - loss: 0.3585 - binary_accuracy: 0.7553 - val_loss: 0.4346 - val_binary_accuracy: 0.7463\n",
      "Epoch 33/100\n",
      "60/60 [==============================] - 2s 27ms/step - loss: 0.3587 - binary_accuracy: 0.7553 - val_loss: 0.4366 - val_binary_accuracy: 0.7469\n",
      "Epoch 34/100\n",
      "60/60 [==============================] - 2s 28ms/step - loss: 0.3632 - binary_accuracy: 0.7545 - val_loss: 0.4443 - val_binary_accuracy: 0.7445\n",
      "Epoch 35/100\n",
      "60/60 [==============================] - 2s 28ms/step - loss: 0.3585 - binary_accuracy: 0.7553 - val_loss: 0.4451 - val_binary_accuracy: 0.7438\n",
      "Epoch 36/100\n",
      "60/60 [==============================] - 2s 28ms/step - loss: 0.3602 - binary_accuracy: 0.7574 - val_loss: 0.3505 - val_binary_accuracy: 0.7857\n",
      "Epoch 37/100\n",
      "60/60 [==============================] - 2s 28ms/step - loss: 0.3520 - binary_accuracy: 0.7759 - val_loss: 0.4032 - val_binary_accuracy: 0.7740\n",
      "Epoch 38/100\n",
      "60/60 [==============================] - 2s 27ms/step - loss: 0.3654 - binary_accuracy: 0.7439 - val_loss: 0.4661 - val_binary_accuracy: 0.7167\n",
      "Epoch 39/100\n",
      "60/60 [==============================] - 2s 27ms/step - loss: 0.4025 - binary_accuracy: 0.6616 - val_loss: 0.3941 - val_binary_accuracy: 0.5942\n",
      "Epoch 40/100\n",
      "60/60 [==============================] - 2s 28ms/step - loss: 0.2354 - binary_accuracy: 0.8662 - val_loss: 0.1861 - val_binary_accuracy: 0.9193\n",
      "Epoch 41/100\n",
      "60/60 [==============================] - 2s 28ms/step - loss: 0.1419 - binary_accuracy: 0.9636 - val_loss: 0.1576 - val_binary_accuracy: 0.9526\n",
      "Epoch 42/100\n",
      "60/60 [==============================] - 2s 28ms/step - loss: 0.1539 - binary_accuracy: 0.9654 - val_loss: 0.2196 - val_binary_accuracy: 0.9421\n",
      "Epoch 43/100\n",
      "60/60 [==============================] - 2s 29ms/step - loss: 0.1784 - binary_accuracy: 0.9636 - val_loss: 0.2109 - val_binary_accuracy: 0.9353\n",
      "Epoch 44/100\n",
      "60/60 [==============================] - 2s 27ms/step - loss: 0.1426 - binary_accuracy: 0.9638 - val_loss: 0.1830 - val_binary_accuracy: 0.9347\n",
      "Epoch 45/100\n",
      "60/60 [==============================] - 2s 27ms/step - loss: 0.1391 - binary_accuracy: 0.9657 - val_loss: 0.1874 - val_binary_accuracy: 0.9390\n",
      "Epoch 46/100\n",
      "60/60 [==============================] - 2s 28ms/step - loss: 0.1287 - binary_accuracy: 0.9741 - val_loss: 0.1892 - val_binary_accuracy: 0.9440\n",
      "Epoch 47/100\n",
      "60/60 [==============================] - 2s 28ms/step - loss: 0.1266 - binary_accuracy: 0.9802 - val_loss: 0.1846 - val_binary_accuracy: 0.9495\n",
      "Epoch 48/100\n",
      "60/60 [==============================] - 2s 28ms/step - loss: 0.1263 - binary_accuracy: 0.9857 - val_loss: 0.1912 - val_binary_accuracy: 0.9569\n",
      "Epoch 49/100\n",
      "60/60 [==============================] - 2s 28ms/step - loss: 0.1223 - binary_accuracy: 0.9889 - val_loss: 0.1855 - val_binary_accuracy: 0.9612\n",
      "Epoch 50/100\n",
      "60/60 [==============================] - 2s 27ms/step - loss: 0.1229 - binary_accuracy: 0.9900 - val_loss: 0.1947 - val_binary_accuracy: 0.9600\n",
      "Epoch 51/100\n",
      "60/60 [==============================] - 2s 28ms/step - loss: 0.1228 - binary_accuracy: 0.9881 - val_loss: 0.1845 - val_binary_accuracy: 0.9575\n",
      "Epoch 52/100\n",
      "60/60 [==============================] - 2s 28ms/step - loss: 0.1228 - binary_accuracy: 0.9876 - val_loss: 0.1651 - val_binary_accuracy: 0.9631\n",
      "Epoch 53/100\n",
      "60/60 [==============================] - 2s 28ms/step - loss: 0.1240 - binary_accuracy: 0.9886 - val_loss: 0.2374 - val_binary_accuracy: 0.9557\n",
      "Epoch 54/100\n",
      "60/60 [==============================] - 2s 28ms/step - loss: 0.1226 - binary_accuracy: 0.9900 - val_loss: 0.2608 - val_binary_accuracy: 0.9483\n",
      "Epoch 55/100\n",
      "60/60 [==============================] - 2s 28ms/step - loss: 0.1218 - binary_accuracy: 0.9905 - val_loss: 0.1918 - val_binary_accuracy: 0.9606\n",
      "Epoch 56/100\n",
      "60/60 [==============================] - 2s 27ms/step - loss: 0.1239 - binary_accuracy: 0.9902 - val_loss: 0.2192 - val_binary_accuracy: 0.9544\n",
      "Epoch 57/100\n",
      "60/60 [==============================] - 2s 28ms/step - loss: 0.1245 - binary_accuracy: 0.9886 - val_loss: 0.2593 - val_binary_accuracy: 0.9421\n",
      "Epoch 58/100\n",
      "60/60 [==============================] - 2s 27ms/step - loss: 0.1263 - binary_accuracy: 0.9881 - val_loss: 0.2037 - val_binary_accuracy: 0.9557\n",
      "Epoch 59/100\n",
      "60/60 [==============================] - 2s 28ms/step - loss: 0.1285 - binary_accuracy: 0.9886 - val_loss: 0.1986 - val_binary_accuracy: 0.9600\n",
      "Epoch 60/100\n",
      "60/60 [==============================] - 2s 28ms/step - loss: 0.1295 - binary_accuracy: 0.9884 - val_loss: 0.2342 - val_binary_accuracy: 0.9514\n",
      "Epoch 61/100\n",
      "60/60 [==============================] - 2s 28ms/step - loss: 0.1269 - binary_accuracy: 0.9900 - val_loss: 0.2683 - val_binary_accuracy: 0.9483\n",
      "Epoch 62/100\n",
      "60/60 [==============================] - 2s 28ms/step - loss: 0.1271 - binary_accuracy: 0.9894 - val_loss: 0.2416 - val_binary_accuracy: 0.9507\n",
      "Epoch 63/100\n",
      "60/60 [==============================] - 2s 28ms/step - loss: 0.1291 - binary_accuracy: 0.9900 - val_loss: 0.2635 - val_binary_accuracy: 0.9483\n",
      "Epoch 64/100\n",
      "60/60 [==============================] - 2s 27ms/step - loss: 0.1288 - binary_accuracy: 0.9897 - val_loss: 0.2333 - val_binary_accuracy: 0.9563\n",
      "Epoch 65/100\n",
      "60/60 [==============================] - 2s 28ms/step - loss: 0.1287 - binary_accuracy: 0.9900 - val_loss: 0.2763 - val_binary_accuracy: 0.9526\n",
      "Epoch 66/100\n",
      "60/60 [==============================] - 2s 29ms/step - loss: 0.1266 - binary_accuracy: 0.9897 - val_loss: 0.2739 - val_binary_accuracy: 0.9532\n",
      "Epoch 67/100\n",
      "60/60 [==============================] - 2s 28ms/step - loss: 0.1270 - binary_accuracy: 0.9897 - val_loss: 0.2687 - val_binary_accuracy: 0.9563\n",
      "Epoch 68/100\n",
      "60/60 [==============================] - 2s 28ms/step - loss: 0.1263 - binary_accuracy: 0.9897 - val_loss: 0.2816 - val_binary_accuracy: 0.9520\n",
      "Epoch 69/100\n",
      "60/60 [==============================] - 2s 28ms/step - loss: 0.1257 - binary_accuracy: 0.9892 - val_loss: 0.2675 - val_binary_accuracy: 0.9581\n",
      "Epoch 70/100\n",
      "60/60 [==============================] - 2s 27ms/step - loss: 0.1267 - binary_accuracy: 0.9902 - val_loss: 0.2837 - val_binary_accuracy: 0.9544\n",
      "Epoch 71/100\n",
      "60/60 [==============================] - 2s 27ms/step - loss: 0.1259 - binary_accuracy: 0.9900 - val_loss: 0.2578 - val_binary_accuracy: 0.9600\n",
      "Epoch 72/100\n",
      "60/60 [==============================] - 2s 29ms/step - loss: 0.1263 - binary_accuracy: 0.9900 - val_loss: 0.2623 - val_binary_accuracy: 0.9594\n",
      "Epoch 73/100\n",
      "60/60 [==============================] - 2s 28ms/step - loss: 0.1291 - binary_accuracy: 0.9897 - val_loss: 0.3121 - val_binary_accuracy: 0.9501\n",
      "Epoch 74/100\n",
      "60/60 [==============================] - 2s 28ms/step - loss: 0.1287 - binary_accuracy: 0.9900 - val_loss: 0.2561 - val_binary_accuracy: 0.9600\n",
      "Epoch 75/100\n",
      "60/60 [==============================] - 2s 28ms/step - loss: 0.1390 - binary_accuracy: 0.9868 - val_loss: 0.2396 - val_binary_accuracy: 0.9520\n",
      "Epoch 76/100\n",
      "60/60 [==============================] - 2s 27ms/step - loss: 0.1318 - binary_accuracy: 0.9897 - val_loss: 0.2505 - val_binary_accuracy: 0.9563\n",
      "Epoch 77/100\n",
      "60/60 [==============================] - 2s 27ms/step - loss: 0.1312 - binary_accuracy: 0.9900 - val_loss: 0.2395 - val_binary_accuracy: 0.9563\n",
      "Epoch 78/100\n",
      "60/60 [==============================] - 2s 29ms/step - loss: 0.1304 - binary_accuracy: 0.9902 - val_loss: 0.2517 - val_binary_accuracy: 0.9563\n",
      "Epoch 79/100\n",
      "60/60 [==============================] - 2s 28ms/step - loss: 0.1298 - binary_accuracy: 0.9902 - val_loss: 0.2541 - val_binary_accuracy: 0.9563\n",
      "Epoch 80/100\n",
      "60/60 [==============================] - 2s 28ms/step - loss: 0.1312 - binary_accuracy: 0.9902 - val_loss: 0.2486 - val_binary_accuracy: 0.9569\n",
      "Epoch 81/100\n",
      "60/60 [==============================] - 2s 27ms/step - loss: 0.1293 - binary_accuracy: 0.9902 - val_loss: 0.2495 - val_binary_accuracy: 0.9569\n",
      "Epoch 82/100\n",
      "60/60 [==============================] - 2s 27ms/step - loss: 0.1295 - binary_accuracy: 0.9902 - val_loss: 0.2425 - val_binary_accuracy: 0.9575\n",
      "Epoch 83/100\n",
      "60/60 [==============================] - 2s 28ms/step - loss: 0.1297 - binary_accuracy: 0.9902 - val_loss: 0.2362 - val_binary_accuracy: 0.9575\n",
      "Epoch 84/100\n",
      "60/60 [==============================] - 2s 28ms/step - loss: 0.1310 - binary_accuracy: 0.9902 - val_loss: 0.2439 - val_binary_accuracy: 0.9575\n",
      "Epoch 85/100\n",
      "60/60 [==============================] - 2s 29ms/step - loss: 0.1298 - binary_accuracy: 0.9902 - val_loss: 0.2336 - val_binary_accuracy: 0.9594\n",
      "Epoch 86/100\n",
      "60/60 [==============================] - 2s 28ms/step - loss: 0.1268 - binary_accuracy: 0.9905 - val_loss: 0.2327 - val_binary_accuracy: 0.9594\n",
      "Epoch 87/100\n",
      "60/60 [==============================] - 2s 28ms/step - loss: 0.1272 - binary_accuracy: 0.9905 - val_loss: 0.2504 - val_binary_accuracy: 0.9581\n",
      "Epoch 88/100\n",
      "60/60 [==============================] - 2s 28ms/step - loss: 0.1266 - binary_accuracy: 0.9905 - val_loss: 0.2431 - val_binary_accuracy: 0.9587\n",
      "Epoch 89/100\n",
      "60/60 [==============================] - 2s 27ms/step - loss: 0.1268 - binary_accuracy: 0.9905 - val_loss: 0.2544 - val_binary_accuracy: 0.9581\n",
      "Epoch 90/100\n",
      "60/60 [==============================] - 2s 28ms/step - loss: 0.1276 - binary_accuracy: 0.9905 - val_loss: 0.2615 - val_binary_accuracy: 0.9587\n",
      "Epoch 91/100\n",
      "60/60 [==============================] - 2s 28ms/step - loss: 0.1270 - binary_accuracy: 0.9905 - val_loss: 0.2484 - val_binary_accuracy: 0.9587\n",
      "Epoch 92/100\n",
      "60/60 [==============================] - 2s 28ms/step - loss: 0.1280 - binary_accuracy: 0.9905 - val_loss: 0.2370 - val_binary_accuracy: 0.9600\n",
      "Epoch 93/100\n",
      "60/60 [==============================] - 2s 28ms/step - loss: 0.1247 - binary_accuracy: 0.9908 - val_loss: 0.2504 - val_binary_accuracy: 0.9557\n",
      "Epoch 94/100\n",
      "60/60 [==============================] - 2s 27ms/step - loss: 0.1241 - binary_accuracy: 0.9908 - val_loss: 0.2597 - val_binary_accuracy: 0.9563\n",
      "Epoch 95/100\n",
      "60/60 [==============================] - 2s 28ms/step - loss: 0.1240 - binary_accuracy: 0.9908 - val_loss: 0.2432 - val_binary_accuracy: 0.9587\n",
      "Epoch 96/100\n",
      "60/60 [==============================] - 2s 28ms/step - loss: 0.1255 - binary_accuracy: 0.9908 - val_loss: 0.2873 - val_binary_accuracy: 0.9557\n",
      "Epoch 97/100\n",
      "60/60 [==============================] - 2s 28ms/step - loss: 0.1246 - binary_accuracy: 0.9902 - val_loss: 0.2159 - val_binary_accuracy: 0.9557\n",
      "Epoch 98/100\n",
      "60/60 [==============================] - 2s 28ms/step - loss: 0.1241 - binary_accuracy: 0.9908 - val_loss: 0.2645 - val_binary_accuracy: 0.9557\n",
      "Epoch 99/100\n",
      "60/60 [==============================] - 2s 28ms/step - loss: 0.1243 - binary_accuracy: 0.9908 - val_loss: 0.2513 - val_binary_accuracy: 0.9557\n",
      "Epoch 100/100\n",
      "60/60 [==============================] - 2s 27ms/step - loss: 0.1238 - binary_accuracy: 0.9908 - val_loss: 0.2478 - val_binary_accuracy: 0.9557\n"
     ]
    },
    {
     "data": {
      "text/plain": [
       "<keras.src.callbacks.History at 0x35767b2d0>"
      ]
     },
     "execution_count": 412,
     "metadata": {},
     "output_type": "execute_result"
    }
   ],
   "source": [
    "model_lstm.fit(train_data,\n",
    "              epochs=100, \n",
    "              validation_data=test_data,\n",
    "              class_weight=weights)"
   ]
  },
  {
   "cell_type": "code",
   "execution_count": 413,
   "metadata": {},
   "outputs": [],
   "source": [
    "model_lstm.save(\"./model/model_lstm.h5\")\n",
    "import json\n",
    "json.dump(model_lstm.history.history, open(\"./history/LSTM_history.json\", 'w'))"
   ]
  },
  {
   "cell_type": "markdown",
   "metadata": {},
   "source": [
    "d) LSTM with Attention"
   ]
  },
  {
   "cell_type": "code",
   "execution_count": 414,
   "metadata": {},
   "outputs": [
    {
     "name": "stdout",
     "output_type": "stream",
     "text": [
      "Model: \"model_7\"\n",
      "__________________________________________________________________________________________________\n",
      " Layer (type)                Output Shape                 Param #   Connected to                  \n",
      "==================================================================================================\n",
      " input_8 (InputLayer)        [(None, 47)]                 0         []                            \n",
      "                                                                                                  \n",
      " embedding (Embedding)       (None, 47, 64)               64064     ['input_8[0][0]']             \n",
      "                                                                                                  \n",
      " lstm_32 (LSTM)              (None, 47, 64)               33024     ['embedding[0][0]']           \n",
      "                                                                                                  \n",
      " attention_7 (Attention)     (None, 47, 64)               0         ['lstm_32[0][0]',             \n",
      "                                                                     'lstm_32[0][0]']             \n",
      "                                                                                                  \n",
      " lstm_33 (LSTM)              (None, 32)                   12416     ['attention_7[0][0]']         \n",
      "                                                                                                  \n",
      " dense_104 (Dense)           (None, 16)                   528       ['lstm_33[0][0]']             \n",
      "                                                                                                  \n",
      " dense_105 (Dense)           (None, 8)                    136       ['dense_104[0][0]']           \n",
      "                                                                                                  \n",
      " last (Dense)                (None, 1)                    9         ['dense_105[0][0]']           \n",
      "                                                                                                  \n",
      "==================================================================================================\n",
      "Total params: 110177 (430.38 KB)\n",
      "Trainable params: 110177 (430.38 KB)\n",
      "Non-trainable params: 0 (0.00 Byte)\n",
      "__________________________________________________________________________________________________\n"
     ]
    }
   ],
   "source": [
    "from tensorflow.keras.layers import Input, LSTM, Dense, Embedding, Attention\n",
    "from tensorflow.keras.models import Model\n",
    "\n",
    "# Définition de l'entrée\n",
    "inputs = Input(shape=(mail.shape[1],))\n",
    "\n",
    "# Embedding\n",
    "embedding_layer = Embedding(vocab_size+1, 64, input_length=mail.shape[1], name=\"embedding\")\n",
    "embedding_output = embedding_layer(inputs)\n",
    "\n",
    "# First LSTM\n",
    "lstm_output = LSTM(units=64, return_sequences=True)(embedding_output)\n",
    "\n",
    "# Attention\n",
    "attention_output = Attention()([lstm_output, lstm_output])\n",
    "\n",
    "# Second LSTM with Attention\n",
    "lstm_with_attention_output = LSTM(units=32, return_sequences=False)(attention_output)\n",
    "\n",
    "dense_output = Dense(16, activation='relu')(lstm_with_attention_output)\n",
    "dense_output = Dense(8, activation='relu')(dense_output)\n",
    "\n",
    "outputs = Dense(1, activation=\"sigmoid\", name=\"last\")(dense_output)\n",
    "\n",
    "# Model\n",
    "model_LSTM_with_attention = Model(inputs=inputs, outputs=outputs)\n",
    "\n",
    "model_LSTM_with_attention.summary()\n"
   ]
  },
  {
   "cell_type": "code",
   "execution_count": 415,
   "metadata": {},
   "outputs": [
    {
     "name": "stderr",
     "output_type": "stream",
     "text": [
      "WARNING:absl:At this time, the v2.11+ optimizer `tf.keras.optimizers.Adam` runs slowly on M1/M2 Macs, please use the legacy Keras optimizer instead, located at `tf.keras.optimizers.legacy.Adam`.\n"
     ]
    }
   ],
   "source": [
    "optimizer= tf.keras.optimizers.Adam()\n",
    "\n",
    "model_LSTM_with_attention.compile(optimizer=optimizer,\n",
    "              loss=tf.keras.losses.BinaryCrossentropy(),\n",
    "              metrics=[tf.keras.metrics.BinaryAccuracy()])"
   ]
  },
  {
   "cell_type": "code",
   "execution_count": 416,
   "metadata": {},
   "outputs": [
    {
     "name": "stdout",
     "output_type": "stream",
     "text": [
      "Epoch 1/100\n"
     ]
    },
    {
     "name": "stderr",
     "output_type": "stream",
     "text": [
      "2024-02-08 18:41:38.932581: W tensorflow/core/grappler/costs/op_level_cost_estimator.cc:693] Error in PredictCost() for the op: op: \"Softmax\" attr { key: \"T\" value { type: DT_FLOAT } } inputs { dtype: DT_FLOAT shape { unknown_rank: true } } device { type: \"CPU\" model: \"0\" frequency: 2400 num_cores: 10 environment { key: \"cpu_instruction_set\" value: \"ARM NEON\" } environment { key: \"eigen\" value: \"3.4.90\" } l1_cache_size: 16384 l2_cache_size: 524288 l3_cache_size: 524288 memory_size: 268435456 } outputs { dtype: DT_FLOAT shape { unknown_rank: true } }\n"
     ]
    },
    {
     "name": "stdout",
     "output_type": "stream",
     "text": [
      "59/60 [============================>.] - ETA: 0s - loss: 0.6088 - binary_accuracy: 0.8612"
     ]
    },
    {
     "name": "stderr",
     "output_type": "stream",
     "text": [
      "2024-02-08 18:41:41.093645: W tensorflow/core/grappler/costs/op_level_cost_estimator.cc:693] Error in PredictCost() for the op: op: \"Softmax\" attr { key: \"T\" value { type: DT_FLOAT } } inputs { dtype: DT_FLOAT shape { unknown_rank: true } } device { type: \"CPU\" model: \"0\" frequency: 2400 num_cores: 10 environment { key: \"cpu_instruction_set\" value: \"ARM NEON\" } environment { key: \"eigen\" value: \"3.4.90\" } l1_cache_size: 16384 l2_cache_size: 524288 l3_cache_size: 524288 memory_size: 268435456 } outputs { dtype: DT_FLOAT shape { unknown_rank: true } }\n"
     ]
    },
    {
     "name": "stdout",
     "output_type": "stream",
     "text": [
      "60/60 [==============================] - 3s 35ms/step - loss: 0.6076 - binary_accuracy: 0.8617 - val_loss: 0.2551 - val_binary_accuracy: 0.9754\n",
      "Epoch 2/100\n",
      "60/60 [==============================] - 2s 33ms/step - loss: 0.2046 - binary_accuracy: 0.9736 - val_loss: 0.1985 - val_binary_accuracy: 0.9655\n",
      "Epoch 3/100\n",
      "60/60 [==============================] - 2s 32ms/step - loss: 0.2010 - binary_accuracy: 0.9644 - val_loss: 0.1503 - val_binary_accuracy: 0.9735\n",
      "Epoch 4/100\n",
      "60/60 [==============================] - 2s 30ms/step - loss: 0.2437 - binary_accuracy: 0.9723 - val_loss: 0.2738 - val_binary_accuracy: 0.9704\n",
      "Epoch 5/100\n",
      "60/60 [==============================] - 2s 31ms/step - loss: 0.2137 - binary_accuracy: 0.9739 - val_loss: 0.1756 - val_binary_accuracy: 0.9711\n",
      "Epoch 6/100\n",
      "60/60 [==============================] - 2s 31ms/step - loss: 0.4509 - binary_accuracy: 0.7033 - val_loss: 0.6036 - val_binary_accuracy: 0.4957\n",
      "Epoch 7/100\n",
      "60/60 [==============================] - 2s 32ms/step - loss: 0.5528 - binary_accuracy: 0.5325 - val_loss: 0.5747 - val_binary_accuracy: 0.5831\n",
      "Epoch 8/100\n",
      "60/60 [==============================] - 2s 30ms/step - loss: 0.4866 - binary_accuracy: 0.6497 - val_loss: 0.5229 - val_binary_accuracy: 0.7026\n",
      "Epoch 9/100\n",
      "60/60 [==============================] - 2s 30ms/step - loss: 0.4502 - binary_accuracy: 0.7181 - val_loss: 0.4322 - val_binary_accuracy: 0.7555\n",
      "Epoch 10/100\n",
      "60/60 [==============================] - 2s 31ms/step - loss: 0.3689 - binary_accuracy: 0.9229 - val_loss: 0.2837 - val_binary_accuracy: 0.9532\n",
      "Epoch 11/100\n",
      "60/60 [==============================] - 2s 31ms/step - loss: 0.3596 - binary_accuracy: 0.9538 - val_loss: 0.3538 - val_binary_accuracy: 0.9489\n",
      "Epoch 12/100\n",
      "60/60 [==============================] - 2s 31ms/step - loss: 0.3811 - binary_accuracy: 0.9522 - val_loss: 0.3347 - val_binary_accuracy: 0.9440\n",
      "Epoch 13/100\n",
      "60/60 [==============================] - 2s 30ms/step - loss: 0.3852 - binary_accuracy: 0.9512 - val_loss: 0.3421 - val_binary_accuracy: 0.9433\n",
      "Epoch 14/100\n",
      "60/60 [==============================] - 2s 30ms/step - loss: 0.3843 - binary_accuracy: 0.9514 - val_loss: 0.3346 - val_binary_accuracy: 0.9433\n",
      "Epoch 15/100\n",
      "60/60 [==============================] - 2s 31ms/step - loss: 0.3922 - binary_accuracy: 0.9498 - val_loss: 0.3496 - val_binary_accuracy: 0.9403\n",
      "Epoch 16/100\n",
      "60/60 [==============================] - 2s 31ms/step - loss: 0.4043 - binary_accuracy: 0.9477 - val_loss: 0.3638 - val_binary_accuracy: 0.9390\n",
      "Epoch 17/100\n",
      "60/60 [==============================] - 2s 31ms/step - loss: 0.4110 - binary_accuracy: 0.9464 - val_loss: 0.3591 - val_binary_accuracy: 0.9353\n",
      "Epoch 18/100\n",
      "60/60 [==============================] - 2s 30ms/step - loss: 0.4214 - binary_accuracy: 0.9443 - val_loss: 0.3924 - val_binary_accuracy: 0.9292\n",
      "Epoch 19/100\n",
      "60/60 [==============================] - 2s 31ms/step - loss: 0.4532 - binary_accuracy: 0.9372 - val_loss: 0.4360 - val_binary_accuracy: 0.9249\n",
      "Epoch 20/100\n",
      "60/60 [==============================] - 2s 30ms/step - loss: 0.4936 - binary_accuracy: 0.9271 - val_loss: 0.4303 - val_binary_accuracy: 0.9181\n",
      "Epoch 21/100\n",
      "60/60 [==============================] - 2s 31ms/step - loss: 0.5178 - binary_accuracy: 0.9205 - val_loss: 0.4741 - val_binary_accuracy: 0.9132\n",
      "Epoch 22/100\n",
      "60/60 [==============================] - 2s 31ms/step - loss: 0.5829 - binary_accuracy: 0.9015 - val_loss: 0.6217 - val_binary_accuracy: 0.9193\n",
      "Epoch 23/100\n",
      "60/60 [==============================] - 2s 31ms/step - loss: 0.4039 - binary_accuracy: 0.9744 - val_loss: 0.2352 - val_binary_accuracy: 0.9557\n",
      "Epoch 24/100\n",
      "60/60 [==============================] - 2s 30ms/step - loss: 0.2556 - binary_accuracy: 0.9741 - val_loss: 0.1970 - val_binary_accuracy: 0.9748\n",
      "Epoch 25/100\n",
      "60/60 [==============================] - 2s 30ms/step - loss: 0.5944 - binary_accuracy: 0.5298 - val_loss: 0.7009 - val_binary_accuracy: 0.1502\n",
      "Epoch 26/100\n",
      "60/60 [==============================] - 2s 31ms/step - loss: 0.4161 - binary_accuracy: 0.6090 - val_loss: 0.3195 - val_binary_accuracy: 0.9335\n",
      "Epoch 27/100\n",
      "60/60 [==============================] - 2s 31ms/step - loss: 0.2683 - binary_accuracy: 0.9501 - val_loss: 0.2732 - val_binary_accuracy: 0.9538\n",
      "Epoch 28/100\n",
      "60/60 [==============================] - 2s 31ms/step - loss: 0.2468 - binary_accuracy: 0.9617 - val_loss: 0.2001 - val_binary_accuracy: 0.9612\n",
      "Epoch 29/100\n",
      "60/60 [==============================] - 2s 30ms/step - loss: 0.1974 - binary_accuracy: 0.9715 - val_loss: 0.1593 - val_binary_accuracy: 0.9661\n",
      "Epoch 30/100\n",
      "60/60 [==============================] - 2s 31ms/step - loss: 0.1785 - binary_accuracy: 0.9781 - val_loss: 0.1721 - val_binary_accuracy: 0.9637\n",
      "Epoch 31/100\n",
      "60/60 [==============================] - 2s 30ms/step - loss: 0.1561 - binary_accuracy: 0.9815 - val_loss: 0.1664 - val_binary_accuracy: 0.9631\n",
      "Epoch 32/100\n",
      "60/60 [==============================] - 2s 30ms/step - loss: 0.1527 - binary_accuracy: 0.9823 - val_loss: 0.1608 - val_binary_accuracy: 0.9624\n",
      "Epoch 33/100\n",
      "60/60 [==============================] - 2s 31ms/step - loss: 0.1548 - binary_accuracy: 0.9834 - val_loss: 0.2177 - val_binary_accuracy: 0.9674\n",
      "Epoch 34/100\n",
      "60/60 [==============================] - 2s 31ms/step - loss: 0.1467 - binary_accuracy: 0.9863 - val_loss: 0.2010 - val_binary_accuracy: 0.9667\n",
      "Epoch 35/100\n",
      "60/60 [==============================] - 2s 31ms/step - loss: 0.1398 - binary_accuracy: 0.9871 - val_loss: 0.1838 - val_binary_accuracy: 0.9667\n",
      "Epoch 36/100\n",
      "60/60 [==============================] - 2s 30ms/step - loss: 0.1395 - binary_accuracy: 0.9871 - val_loss: 0.1800 - val_binary_accuracy: 0.9674\n",
      "Epoch 37/100\n",
      "60/60 [==============================] - 2s 31ms/step - loss: 0.1376 - binary_accuracy: 0.9876 - val_loss: 0.2007 - val_binary_accuracy: 0.9655\n",
      "Epoch 38/100\n",
      "60/60 [==============================] - 2s 31ms/step - loss: 0.1370 - binary_accuracy: 0.9879 - val_loss: 0.1976 - val_binary_accuracy: 0.9655\n",
      "Epoch 39/100\n",
      "60/60 [==============================] - 2s 31ms/step - loss: 0.1368 - binary_accuracy: 0.9879 - val_loss: 0.1993 - val_binary_accuracy: 0.9655\n",
      "Epoch 40/100\n",
      "60/60 [==============================] - 2s 30ms/step - loss: 0.1365 - binary_accuracy: 0.9879 - val_loss: 0.1817 - val_binary_accuracy: 0.9667\n",
      "Epoch 41/100\n",
      "60/60 [==============================] - 2s 30ms/step - loss: 0.1376 - binary_accuracy: 0.9876 - val_loss: 0.1461 - val_binary_accuracy: 0.9680\n",
      "Epoch 42/100\n",
      "60/60 [==============================] - 2s 31ms/step - loss: 0.1358 - binary_accuracy: 0.9886 - val_loss: 0.1735 - val_binary_accuracy: 0.9692\n",
      "Epoch 43/100\n",
      "60/60 [==============================] - 2s 30ms/step - loss: 0.1335 - binary_accuracy: 0.9889 - val_loss: 0.1694 - val_binary_accuracy: 0.9711\n",
      "Epoch 44/100\n",
      "60/60 [==============================] - 2s 31ms/step - loss: 0.1329 - binary_accuracy: 0.9889 - val_loss: 0.1602 - val_binary_accuracy: 0.9704\n",
      "Epoch 45/100\n",
      "60/60 [==============================] - 2s 30ms/step - loss: 0.1335 - binary_accuracy: 0.9886 - val_loss: 0.1467 - val_binary_accuracy: 0.9704\n",
      "Epoch 46/100\n",
      "60/60 [==============================] - 2s 31ms/step - loss: 0.1327 - binary_accuracy: 0.9889 - val_loss: 0.1501 - val_binary_accuracy: 0.9717\n",
      "Epoch 47/100\n",
      "60/60 [==============================] - 2s 30ms/step - loss: 0.1367 - binary_accuracy: 0.9884 - val_loss: 0.1551 - val_binary_accuracy: 0.9711\n",
      "Epoch 48/100\n",
      "60/60 [==============================] - 2s 31ms/step - loss: 0.1344 - binary_accuracy: 0.9889 - val_loss: 0.1613 - val_binary_accuracy: 0.9735\n",
      "Epoch 49/100\n",
      "60/60 [==============================] - 2s 31ms/step - loss: 0.1282 - binary_accuracy: 0.9894 - val_loss: 0.1517 - val_binary_accuracy: 0.9735\n",
      "Epoch 50/100\n",
      "60/60 [==============================] - 2s 31ms/step - loss: 0.1274 - binary_accuracy: 0.9897 - val_loss: 0.1432 - val_binary_accuracy: 0.9735\n",
      "Epoch 51/100\n",
      "60/60 [==============================] - 2s 31ms/step - loss: 0.1278 - binary_accuracy: 0.9897 - val_loss: 0.1486 - val_binary_accuracy: 0.9735\n",
      "Epoch 52/100\n",
      "60/60 [==============================] - 2s 31ms/step - loss: 0.1266 - binary_accuracy: 0.9900 - val_loss: 0.1470 - val_binary_accuracy: 0.9735\n",
      "Epoch 53/100\n",
      "60/60 [==============================] - 2s 30ms/step - loss: 0.1271 - binary_accuracy: 0.9900 - val_loss: 0.1462 - val_binary_accuracy: 0.9735\n",
      "Epoch 54/100\n",
      "60/60 [==============================] - 2s 30ms/step - loss: 0.1285 - binary_accuracy: 0.9897 - val_loss: 0.1482 - val_binary_accuracy: 0.9735\n",
      "Epoch 55/100\n",
      "60/60 [==============================] - 2s 31ms/step - loss: 0.1271 - binary_accuracy: 0.9900 - val_loss: 0.1347 - val_binary_accuracy: 0.9735\n",
      "Epoch 56/100\n",
      "60/60 [==============================] - 2s 31ms/step - loss: 0.1257 - binary_accuracy: 0.9902 - val_loss: 0.1448 - val_binary_accuracy: 0.9729\n",
      "Epoch 57/100\n",
      "60/60 [==============================] - 2s 31ms/step - loss: 0.1189 - binary_accuracy: 0.9905 - val_loss: 0.1469 - val_binary_accuracy: 0.9735\n",
      "Epoch 58/100\n",
      "60/60 [==============================] - 2s 30ms/step - loss: 0.1186 - binary_accuracy: 0.9908 - val_loss: 0.1475 - val_binary_accuracy: 0.9729\n",
      "Epoch 59/100\n",
      "60/60 [==============================] - 2s 31ms/step - loss: 0.1214 - binary_accuracy: 0.9905 - val_loss: 0.1486 - val_binary_accuracy: 0.9723\n",
      "Epoch 60/100\n",
      "60/60 [==============================] - 2s 31ms/step - loss: 0.1202 - binary_accuracy: 0.9910 - val_loss: 0.1527 - val_binary_accuracy: 0.9723\n",
      "Epoch 61/100\n",
      "60/60 [==============================] - 2s 31ms/step - loss: 0.1202 - binary_accuracy: 0.9910 - val_loss: 0.1539 - val_binary_accuracy: 0.9723\n",
      "Epoch 62/100\n",
      "60/60 [==============================] - 2s 31ms/step - loss: 0.1209 - binary_accuracy: 0.9905 - val_loss: 0.1838 - val_binary_accuracy: 0.9698\n",
      "Epoch 63/100\n",
      "60/60 [==============================] - 2s 31ms/step - loss: 0.1269 - binary_accuracy: 0.9865 - val_loss: 0.1560 - val_binary_accuracy: 0.9692\n",
      "Epoch 64/100\n",
      "60/60 [==============================] - 2s 30ms/step - loss: 0.1228 - binary_accuracy: 0.9900 - val_loss: 0.1574 - val_binary_accuracy: 0.9698\n",
      "Epoch 65/100\n",
      "60/60 [==============================] - 2s 31ms/step - loss: 0.1187 - binary_accuracy: 0.9900 - val_loss: 0.1859 - val_binary_accuracy: 0.9680\n",
      "Epoch 66/100\n",
      "60/60 [==============================] - 2s 31ms/step - loss: 0.1167 - binary_accuracy: 0.9894 - val_loss: 0.1770 - val_binary_accuracy: 0.9711\n",
      "Epoch 67/100\n",
      "60/60 [==============================] - 2s 31ms/step - loss: 0.1161 - binary_accuracy: 0.9916 - val_loss: 0.1683 - val_binary_accuracy: 0.9723\n",
      "Epoch 68/100\n",
      "60/60 [==============================] - 2s 30ms/step - loss: 0.1122 - binary_accuracy: 0.9921 - val_loss: 0.1817 - val_binary_accuracy: 0.9729\n",
      "Epoch 69/100\n",
      "60/60 [==============================] - 2s 30ms/step - loss: 0.1059 - binary_accuracy: 0.9918 - val_loss: 0.1405 - val_binary_accuracy: 0.9735\n",
      "Epoch 70/100\n",
      "60/60 [==============================] - 2s 31ms/step - loss: 0.1042 - binary_accuracy: 0.9926 - val_loss: 0.1696 - val_binary_accuracy: 0.9748\n",
      "Epoch 71/100\n",
      "60/60 [==============================] - 2s 31ms/step - loss: 0.1039 - binary_accuracy: 0.9929 - val_loss: 0.1724 - val_binary_accuracy: 0.9748\n",
      "Epoch 72/100\n",
      "60/60 [==============================] - 2s 31ms/step - loss: 0.1041 - binary_accuracy: 0.9929 - val_loss: 0.1736 - val_binary_accuracy: 0.9741\n",
      "Epoch 73/100\n",
      "60/60 [==============================] - 2s 30ms/step - loss: 0.1042 - binary_accuracy: 0.9929 - val_loss: 0.1747 - val_binary_accuracy: 0.9741\n",
      "Epoch 74/100\n",
      "60/60 [==============================] - 2s 31ms/step - loss: 0.1037 - binary_accuracy: 0.9929 - val_loss: 0.1755 - val_binary_accuracy: 0.9741\n",
      "Epoch 75/100\n",
      "60/60 [==============================] - 2s 31ms/step - loss: 0.1037 - binary_accuracy: 0.9929 - val_loss: 0.1762 - val_binary_accuracy: 0.9741\n",
      "Epoch 76/100\n",
      "60/60 [==============================] - 2s 31ms/step - loss: 0.1041 - binary_accuracy: 0.9929 - val_loss: 0.1781 - val_binary_accuracy: 0.9741\n",
      "Epoch 77/100\n",
      "60/60 [==============================] - 2s 31ms/step - loss: 0.1034 - binary_accuracy: 0.9929 - val_loss: 0.1771 - val_binary_accuracy: 0.9741\n",
      "Epoch 78/100\n",
      "60/60 [==============================] - 2s 31ms/step - loss: 0.1037 - binary_accuracy: 0.9929 - val_loss: 0.1789 - val_binary_accuracy: 0.9741\n",
      "Epoch 79/100\n",
      "60/60 [==============================] - 2s 30ms/step - loss: 0.1038 - binary_accuracy: 0.9929 - val_loss: 0.1817 - val_binary_accuracy: 0.9741\n",
      "Epoch 80/100\n",
      "60/60 [==============================] - 2s 31ms/step - loss: 0.1043 - binary_accuracy: 0.9929 - val_loss: 0.1837 - val_binary_accuracy: 0.9741\n",
      "Epoch 81/100\n",
      "60/60 [==============================] - 2s 31ms/step - loss: 0.1035 - binary_accuracy: 0.9929 - val_loss: 0.1811 - val_binary_accuracy: 0.9741\n",
      "Epoch 82/100\n",
      "60/60 [==============================] - 2s 31ms/step - loss: 0.1037 - binary_accuracy: 0.9929 - val_loss: 0.1806 - val_binary_accuracy: 0.9741\n",
      "Epoch 83/100\n",
      "60/60 [==============================] - 2s 30ms/step - loss: 0.1037 - binary_accuracy: 0.9929 - val_loss: 0.1861 - val_binary_accuracy: 0.9741\n",
      "Epoch 84/100\n",
      "60/60 [==============================] - 2s 31ms/step - loss: 0.1036 - binary_accuracy: 0.9929 - val_loss: 0.1854 - val_binary_accuracy: 0.9741\n",
      "Epoch 85/100\n",
      "60/60 [==============================] - 2s 31ms/step - loss: 0.1037 - binary_accuracy: 0.9929 - val_loss: 0.1863 - val_binary_accuracy: 0.9741\n",
      "Epoch 86/100\n",
      "60/60 [==============================] - 2s 31ms/step - loss: 0.1037 - binary_accuracy: 0.9929 - val_loss: 0.1903 - val_binary_accuracy: 0.9741\n",
      "Epoch 87/100\n",
      "60/60 [==============================] - 2s 31ms/step - loss: 0.1036 - binary_accuracy: 0.9929 - val_loss: 0.1899 - val_binary_accuracy: 0.9741\n",
      "Epoch 88/100\n",
      "60/60 [==============================] - 2s 31ms/step - loss: 0.1035 - binary_accuracy: 0.9929 - val_loss: 0.1899 - val_binary_accuracy: 0.9741\n",
      "Epoch 89/100\n",
      "60/60 [==============================] - 2s 30ms/step - loss: 0.1042 - binary_accuracy: 0.9929 - val_loss: 0.1857 - val_binary_accuracy: 0.9748\n",
      "Epoch 90/100\n",
      "60/60 [==============================] - 2s 32ms/step - loss: 0.1038 - binary_accuracy: 0.9929 - val_loss: 0.1884 - val_binary_accuracy: 0.9748\n",
      "Epoch 91/100\n",
      "60/60 [==============================] - 2s 31ms/step - loss: 0.1049 - binary_accuracy: 0.9929 - val_loss: 0.1941 - val_binary_accuracy: 0.9748\n",
      "Epoch 92/100\n",
      "60/60 [==============================] - 2s 31ms/step - loss: 0.1036 - binary_accuracy: 0.9929 - val_loss: 0.1928 - val_binary_accuracy: 0.9748\n",
      "Epoch 93/100\n",
      "60/60 [==============================] - 2s 31ms/step - loss: 0.1036 - binary_accuracy: 0.9929 - val_loss: 0.1938 - val_binary_accuracy: 0.9748\n",
      "Epoch 94/100\n",
      "60/60 [==============================] - 2s 31ms/step - loss: 0.1037 - binary_accuracy: 0.9929 - val_loss: 0.1950 - val_binary_accuracy: 0.9748\n",
      "Epoch 95/100\n",
      "60/60 [==============================] - 2s 31ms/step - loss: 0.1041 - binary_accuracy: 0.9926 - val_loss: 0.1776 - val_binary_accuracy: 0.9741\n",
      "Epoch 96/100\n",
      "60/60 [==============================] - 2s 32ms/step - loss: 0.1037 - binary_accuracy: 0.9929 - val_loss: 0.1714 - val_binary_accuracy: 0.9748\n",
      "Epoch 97/100\n",
      "60/60 [==============================] - 2s 31ms/step - loss: 0.1038 - binary_accuracy: 0.9929 - val_loss: 0.1782 - val_binary_accuracy: 0.9741\n",
      "Epoch 98/100\n",
      "60/60 [==============================] - 2s 31ms/step - loss: 0.1038 - binary_accuracy: 0.9929 - val_loss: 0.1743 - val_binary_accuracy: 0.9741\n",
      "Epoch 99/100\n",
      "60/60 [==============================] - 2s 31ms/step - loss: 0.1039 - binary_accuracy: 0.9929 - val_loss: 0.1739 - val_binary_accuracy: 0.9741\n",
      "Epoch 100/100\n",
      "60/60 [==============================] - 2s 32ms/step - loss: 0.1043 - binary_accuracy: 0.9929 - val_loss: 0.1750 - val_binary_accuracy: 0.9748\n"
     ]
    },
    {
     "data": {
      "text/plain": [
       "<keras.src.callbacks.History at 0x345ebd8d0>"
      ]
     },
     "execution_count": 416,
     "metadata": {},
     "output_type": "execute_result"
    }
   ],
   "source": [
    "model_LSTM_with_attention.fit(train_data,\n",
    "              epochs=100, \n",
    "              validation_data=test_data,\n",
    "              class_weight=weights)"
   ]
  },
  {
   "cell_type": "code",
   "execution_count": 417,
   "metadata": {},
   "outputs": [],
   "source": [
    "model_LSTM_with_attention.save(\"./model/model_LSTM_with_attention.h5\")\n",
    "import json\n",
    "json.dump(model_LSTM_with_attention.history.history, open(\"./history/LSTM_att_history.json\", 'w'))"
   ]
  },
  {
   "cell_type": "markdown",
   "metadata": {},
   "source": [
    "### 4. **Performance analysis**"
   ]
  },
  {
   "cell_type": "markdown",
   "metadata": {},
   "source": [
    "a) RNN"
   ]
  },
  {
   "cell_type": "code",
   "execution_count": 418,
   "metadata": {},
   "outputs": [
    {
     "name": "stderr",
     "output_type": "stream",
     "text": [
      "WARNING:absl:At this time, the v2.11+ optimizer `tf.keras.optimizers.Adam` runs slowly on M1/M2 Macs, please use the legacy Keras optimizer instead, located at `tf.keras.optimizers.legacy.Adam`.\n"
     ]
    },
    {
     "data": {
      "application/vnd.plotly.v1+json": {
       "config": {
        "plotlyServerURL": "https://plot.ly"
       },
       "data": [
        {
         "mode": "lines",
         "name": "loss",
         "type": "scatter",
         "y": [
          0.4362655580043793,
          0.20556113123893738,
          0.1344500482082367,
          0.12323149293661118,
          0.1132088229060173,
          0.10623648762702942,
          0.06926928460597992,
          0.055013734847307205,
          0.07594703137874603,
          0.05230327323079109,
          0.05718139186501503,
          0.14004634320735931,
          0.07705474644899368,
          0.047781191766262054,
          0.042888522148132324,
          0.03365661948919296,
          0.09392289817333221,
          0.03989383578300476,
          0.032194193452596664,
          0.02255929820239544
         ]
        },
        {
         "mode": "lines",
         "name": "val_loss",
         "type": "scatter",
         "y": [
          0.24192625284194946,
          0.21504192054271698,
          0.148206889629364,
          0.17368948459625244,
          0.09103517234325409,
          0.28146669268608093,
          0.12901195883750916,
          0.10877810418605804,
          0.10888250917196274,
          0.12837229669094086,
          0.16010524332523346,
          0.20884039998054504,
          0.16592873632907867,
          0.14878007769584656,
          0.14573480188846588,
          0.1865406483411789,
          0.15079385042190552,
          0.13801726698875427,
          0.13162273168563843,
          0.21814855933189392
         ]
        }
       ],
       "layout": {
        "template": {
         "data": {
          "bar": [
           {
            "error_x": {
             "color": "#2a3f5f"
            },
            "error_y": {
             "color": "#2a3f5f"
            },
            "marker": {
             "line": {
              "color": "#E5ECF6",
              "width": 0.5
             },
             "pattern": {
              "fillmode": "overlay",
              "size": 10,
              "solidity": 0.2
             }
            },
            "type": "bar"
           }
          ],
          "barpolar": [
           {
            "marker": {
             "line": {
              "color": "#E5ECF6",
              "width": 0.5
             },
             "pattern": {
              "fillmode": "overlay",
              "size": 10,
              "solidity": 0.2
             }
            },
            "type": "barpolar"
           }
          ],
          "carpet": [
           {
            "aaxis": {
             "endlinecolor": "#2a3f5f",
             "gridcolor": "white",
             "linecolor": "white",
             "minorgridcolor": "white",
             "startlinecolor": "#2a3f5f"
            },
            "baxis": {
             "endlinecolor": "#2a3f5f",
             "gridcolor": "white",
             "linecolor": "white",
             "minorgridcolor": "white",
             "startlinecolor": "#2a3f5f"
            },
            "type": "carpet"
           }
          ],
          "choropleth": [
           {
            "colorbar": {
             "outlinewidth": 0,
             "ticks": ""
            },
            "type": "choropleth"
           }
          ],
          "contour": [
           {
            "colorbar": {
             "outlinewidth": 0,
             "ticks": ""
            },
            "colorscale": [
             [
              0,
              "#0d0887"
             ],
             [
              0.1111111111111111,
              "#46039f"
             ],
             [
              0.2222222222222222,
              "#7201a8"
             ],
             [
              0.3333333333333333,
              "#9c179e"
             ],
             [
              0.4444444444444444,
              "#bd3786"
             ],
             [
              0.5555555555555556,
              "#d8576b"
             ],
             [
              0.6666666666666666,
              "#ed7953"
             ],
             [
              0.7777777777777778,
              "#fb9f3a"
             ],
             [
              0.8888888888888888,
              "#fdca26"
             ],
             [
              1,
              "#f0f921"
             ]
            ],
            "type": "contour"
           }
          ],
          "contourcarpet": [
           {
            "colorbar": {
             "outlinewidth": 0,
             "ticks": ""
            },
            "type": "contourcarpet"
           }
          ],
          "heatmap": [
           {
            "colorbar": {
             "outlinewidth": 0,
             "ticks": ""
            },
            "colorscale": [
             [
              0,
              "#0d0887"
             ],
             [
              0.1111111111111111,
              "#46039f"
             ],
             [
              0.2222222222222222,
              "#7201a8"
             ],
             [
              0.3333333333333333,
              "#9c179e"
             ],
             [
              0.4444444444444444,
              "#bd3786"
             ],
             [
              0.5555555555555556,
              "#d8576b"
             ],
             [
              0.6666666666666666,
              "#ed7953"
             ],
             [
              0.7777777777777778,
              "#fb9f3a"
             ],
             [
              0.8888888888888888,
              "#fdca26"
             ],
             [
              1,
              "#f0f921"
             ]
            ],
            "type": "heatmap"
           }
          ],
          "heatmapgl": [
           {
            "colorbar": {
             "outlinewidth": 0,
             "ticks": ""
            },
            "colorscale": [
             [
              0,
              "#0d0887"
             ],
             [
              0.1111111111111111,
              "#46039f"
             ],
             [
              0.2222222222222222,
              "#7201a8"
             ],
             [
              0.3333333333333333,
              "#9c179e"
             ],
             [
              0.4444444444444444,
              "#bd3786"
             ],
             [
              0.5555555555555556,
              "#d8576b"
             ],
             [
              0.6666666666666666,
              "#ed7953"
             ],
             [
              0.7777777777777778,
              "#fb9f3a"
             ],
             [
              0.8888888888888888,
              "#fdca26"
             ],
             [
              1,
              "#f0f921"
             ]
            ],
            "type": "heatmapgl"
           }
          ],
          "histogram": [
           {
            "marker": {
             "pattern": {
              "fillmode": "overlay",
              "size": 10,
              "solidity": 0.2
             }
            },
            "type": "histogram"
           }
          ],
          "histogram2d": [
           {
            "colorbar": {
             "outlinewidth": 0,
             "ticks": ""
            },
            "colorscale": [
             [
              0,
              "#0d0887"
             ],
             [
              0.1111111111111111,
              "#46039f"
             ],
             [
              0.2222222222222222,
              "#7201a8"
             ],
             [
              0.3333333333333333,
              "#9c179e"
             ],
             [
              0.4444444444444444,
              "#bd3786"
             ],
             [
              0.5555555555555556,
              "#d8576b"
             ],
             [
              0.6666666666666666,
              "#ed7953"
             ],
             [
              0.7777777777777778,
              "#fb9f3a"
             ],
             [
              0.8888888888888888,
              "#fdca26"
             ],
             [
              1,
              "#f0f921"
             ]
            ],
            "type": "histogram2d"
           }
          ],
          "histogram2dcontour": [
           {
            "colorbar": {
             "outlinewidth": 0,
             "ticks": ""
            },
            "colorscale": [
             [
              0,
              "#0d0887"
             ],
             [
              0.1111111111111111,
              "#46039f"
             ],
             [
              0.2222222222222222,
              "#7201a8"
             ],
             [
              0.3333333333333333,
              "#9c179e"
             ],
             [
              0.4444444444444444,
              "#bd3786"
             ],
             [
              0.5555555555555556,
              "#d8576b"
             ],
             [
              0.6666666666666666,
              "#ed7953"
             ],
             [
              0.7777777777777778,
              "#fb9f3a"
             ],
             [
              0.8888888888888888,
              "#fdca26"
             ],
             [
              1,
              "#f0f921"
             ]
            ],
            "type": "histogram2dcontour"
           }
          ],
          "mesh3d": [
           {
            "colorbar": {
             "outlinewidth": 0,
             "ticks": ""
            },
            "type": "mesh3d"
           }
          ],
          "parcoords": [
           {
            "line": {
             "colorbar": {
              "outlinewidth": 0,
              "ticks": ""
             }
            },
            "type": "parcoords"
           }
          ],
          "pie": [
           {
            "automargin": true,
            "type": "pie"
           }
          ],
          "scatter": [
           {
            "fillpattern": {
             "fillmode": "overlay",
             "size": 10,
             "solidity": 0.2
            },
            "type": "scatter"
           }
          ],
          "scatter3d": [
           {
            "line": {
             "colorbar": {
              "outlinewidth": 0,
              "ticks": ""
             }
            },
            "marker": {
             "colorbar": {
              "outlinewidth": 0,
              "ticks": ""
             }
            },
            "type": "scatter3d"
           }
          ],
          "scattercarpet": [
           {
            "marker": {
             "colorbar": {
              "outlinewidth": 0,
              "ticks": ""
             }
            },
            "type": "scattercarpet"
           }
          ],
          "scattergeo": [
           {
            "marker": {
             "colorbar": {
              "outlinewidth": 0,
              "ticks": ""
             }
            },
            "type": "scattergeo"
           }
          ],
          "scattergl": [
           {
            "marker": {
             "colorbar": {
              "outlinewidth": 0,
              "ticks": ""
             }
            },
            "type": "scattergl"
           }
          ],
          "scattermapbox": [
           {
            "marker": {
             "colorbar": {
              "outlinewidth": 0,
              "ticks": ""
             }
            },
            "type": "scattermapbox"
           }
          ],
          "scatterpolar": [
           {
            "marker": {
             "colorbar": {
              "outlinewidth": 0,
              "ticks": ""
             }
            },
            "type": "scatterpolar"
           }
          ],
          "scatterpolargl": [
           {
            "marker": {
             "colorbar": {
              "outlinewidth": 0,
              "ticks": ""
             }
            },
            "type": "scatterpolargl"
           }
          ],
          "scatterternary": [
           {
            "marker": {
             "colorbar": {
              "outlinewidth": 0,
              "ticks": ""
             }
            },
            "type": "scatterternary"
           }
          ],
          "surface": [
           {
            "colorbar": {
             "outlinewidth": 0,
             "ticks": ""
            },
            "colorscale": [
             [
              0,
              "#0d0887"
             ],
             [
              0.1111111111111111,
              "#46039f"
             ],
             [
              0.2222222222222222,
              "#7201a8"
             ],
             [
              0.3333333333333333,
              "#9c179e"
             ],
             [
              0.4444444444444444,
              "#bd3786"
             ],
             [
              0.5555555555555556,
              "#d8576b"
             ],
             [
              0.6666666666666666,
              "#ed7953"
             ],
             [
              0.7777777777777778,
              "#fb9f3a"
             ],
             [
              0.8888888888888888,
              "#fdca26"
             ],
             [
              1,
              "#f0f921"
             ]
            ],
            "type": "surface"
           }
          ],
          "table": [
           {
            "cells": {
             "fill": {
              "color": "#EBF0F8"
             },
             "line": {
              "color": "white"
             }
            },
            "header": {
             "fill": {
              "color": "#C8D4E3"
             },
             "line": {
              "color": "white"
             }
            },
            "type": "table"
           }
          ]
         },
         "layout": {
          "annotationdefaults": {
           "arrowcolor": "#2a3f5f",
           "arrowhead": 0,
           "arrowwidth": 1
          },
          "autotypenumbers": "strict",
          "coloraxis": {
           "colorbar": {
            "outlinewidth": 0,
            "ticks": ""
           }
          },
          "colorscale": {
           "diverging": [
            [
             0,
             "#8e0152"
            ],
            [
             0.1,
             "#c51b7d"
            ],
            [
             0.2,
             "#de77ae"
            ],
            [
             0.3,
             "#f1b6da"
            ],
            [
             0.4,
             "#fde0ef"
            ],
            [
             0.5,
             "#f7f7f7"
            ],
            [
             0.6,
             "#e6f5d0"
            ],
            [
             0.7,
             "#b8e186"
            ],
            [
             0.8,
             "#7fbc41"
            ],
            [
             0.9,
             "#4d9221"
            ],
            [
             1,
             "#276419"
            ]
           ],
           "sequential": [
            [
             0,
             "#0d0887"
            ],
            [
             0.1111111111111111,
             "#46039f"
            ],
            [
             0.2222222222222222,
             "#7201a8"
            ],
            [
             0.3333333333333333,
             "#9c179e"
            ],
            [
             0.4444444444444444,
             "#bd3786"
            ],
            [
             0.5555555555555556,
             "#d8576b"
            ],
            [
             0.6666666666666666,
             "#ed7953"
            ],
            [
             0.7777777777777778,
             "#fb9f3a"
            ],
            [
             0.8888888888888888,
             "#fdca26"
            ],
            [
             1,
             "#f0f921"
            ]
           ],
           "sequentialminus": [
            [
             0,
             "#0d0887"
            ],
            [
             0.1111111111111111,
             "#46039f"
            ],
            [
             0.2222222222222222,
             "#7201a8"
            ],
            [
             0.3333333333333333,
             "#9c179e"
            ],
            [
             0.4444444444444444,
             "#bd3786"
            ],
            [
             0.5555555555555556,
             "#d8576b"
            ],
            [
             0.6666666666666666,
             "#ed7953"
            ],
            [
             0.7777777777777778,
             "#fb9f3a"
            ],
            [
             0.8888888888888888,
             "#fdca26"
            ],
            [
             1,
             "#f0f921"
            ]
           ]
          },
          "colorway": [
           "#636efa",
           "#EF553B",
           "#00cc96",
           "#ab63fa",
           "#FFA15A",
           "#19d3f3",
           "#FF6692",
           "#B6E880",
           "#FF97FF",
           "#FECB52"
          ],
          "font": {
           "color": "#2a3f5f"
          },
          "geo": {
           "bgcolor": "white",
           "lakecolor": "white",
           "landcolor": "#E5ECF6",
           "showlakes": true,
           "showland": true,
           "subunitcolor": "white"
          },
          "hoverlabel": {
           "align": "left"
          },
          "hovermode": "closest",
          "mapbox": {
           "style": "light"
          },
          "paper_bgcolor": "white",
          "plot_bgcolor": "#E5ECF6",
          "polar": {
           "angularaxis": {
            "gridcolor": "white",
            "linecolor": "white",
            "ticks": ""
           },
           "bgcolor": "#E5ECF6",
           "radialaxis": {
            "gridcolor": "white",
            "linecolor": "white",
            "ticks": ""
           }
          },
          "scene": {
           "xaxis": {
            "backgroundcolor": "#E5ECF6",
            "gridcolor": "white",
            "gridwidth": 2,
            "linecolor": "white",
            "showbackground": true,
            "ticks": "",
            "zerolinecolor": "white"
           },
           "yaxis": {
            "backgroundcolor": "#E5ECF6",
            "gridcolor": "white",
            "gridwidth": 2,
            "linecolor": "white",
            "showbackground": true,
            "ticks": "",
            "zerolinecolor": "white"
           },
           "zaxis": {
            "backgroundcolor": "#E5ECF6",
            "gridcolor": "white",
            "gridwidth": 2,
            "linecolor": "white",
            "showbackground": true,
            "ticks": "",
            "zerolinecolor": "white"
           }
          },
          "shapedefaults": {
           "line": {
            "color": "#2a3f5f"
           }
          },
          "ternary": {
           "aaxis": {
            "gridcolor": "white",
            "linecolor": "white",
            "ticks": ""
           },
           "baxis": {
            "gridcolor": "white",
            "linecolor": "white",
            "ticks": ""
           },
           "bgcolor": "#E5ECF6",
           "caxis": {
            "gridcolor": "white",
            "linecolor": "white",
            "ticks": ""
           }
          },
          "title": {
           "x": 0.05
          },
          "xaxis": {
           "automargin": true,
           "gridcolor": "white",
           "linecolor": "white",
           "ticks": "",
           "title": {
            "standoff": 15
           },
           "zerolinecolor": "white",
           "zerolinewidth": 2
          },
          "yaxis": {
           "automargin": true,
           "gridcolor": "white",
           "linecolor": "white",
           "ticks": "",
           "title": {
            "standoff": 15
           },
           "zerolinecolor": "white",
           "zerolinewidth": 2
          }
         }
        }
       }
      }
     },
     "metadata": {},
     "output_type": "display_data"
    }
   ],
   "source": [
    "simpleRNN_history = json.load(open(\"./history/simpleRNN_history.json\", 'r'))\n",
    "model_simpleRNN = tf.keras.models.load_model(\"./model/model_simpleRNN.h5\")\n",
    "fig = go.Figure()\n",
    "fig.add_trace(go.Scatter(y=simpleRNN_history[\"loss\"],\n",
    "                    mode='lines',\n",
    "                    name='loss'))\n",
    "fig.add_trace(go.Scatter(y=simpleRNN_history[\"val_loss\"],\n",
    "                    mode='lines',\n",
    "                    name='val_loss'))\n",
    "fig.show()\n"
   ]
  },
  {
   "cell_type": "markdown",
   "metadata": {},
   "source": [
    "b) GRU"
   ]
  },
  {
   "cell_type": "code",
   "execution_count": 419,
   "metadata": {},
   "outputs": [
    {
     "name": "stderr",
     "output_type": "stream",
     "text": [
      "WARNING:absl:At this time, the v2.11+ optimizer `tf.keras.optimizers.Adam` runs slowly on M1/M2 Macs, please use the legacy Keras optimizer instead, located at `tf.keras.optimizers.legacy.Adam`.\n"
     ]
    },
    {
     "data": {
      "application/vnd.plotly.v1+json": {
       "config": {
        "plotlyServerURL": "https://plot.ly"
       },
       "data": [
        {
         "mode": "lines",
         "name": "loss",
         "type": "scatter",
         "y": [
          0.6927102208137512,
          0.6924423575401306,
          0.6924708485603333,
          0.6925157308578491,
          0.6923720240592957,
          0.6923695802688599,
          0.6923931241035461,
          0.6923450827598572,
          0.6923874616622925,
          0.6923608183860779,
          0.692375659942627,
          0.6923578977584839,
          0.6923255324363708,
          0.6923297047615051,
          0.6925784349441528,
          0.6926954388618469,
          0.6922156810760498,
          0.6927282810211182,
          0.6925732493400574,
          0.6921265125274658
         ]
        },
        {
         "mode": "lines",
         "name": "val_loss",
         "type": "scatter",
         "y": [
          0.6821668148040771,
          0.6920166015625,
          0.6895532608032227,
          0.6948308944702148,
          0.693239688873291,
          0.6938351988792419,
          0.6927223205566406,
          0.6939366459846497,
          0.6928369402885437,
          0.6940065026283264,
          0.694236695766449,
          0.6923999786376953,
          0.6921430826187134,
          0.6908543705940247,
          0.6915979981422424,
          0.6939953565597534,
          0.6943489909172058,
          0.6749508380889893,
          0.6943393349647522,
          0.6922724843025208
         ]
        }
       ],
       "layout": {
        "template": {
         "data": {
          "bar": [
           {
            "error_x": {
             "color": "#2a3f5f"
            },
            "error_y": {
             "color": "#2a3f5f"
            },
            "marker": {
             "line": {
              "color": "#E5ECF6",
              "width": 0.5
             },
             "pattern": {
              "fillmode": "overlay",
              "size": 10,
              "solidity": 0.2
             }
            },
            "type": "bar"
           }
          ],
          "barpolar": [
           {
            "marker": {
             "line": {
              "color": "#E5ECF6",
              "width": 0.5
             },
             "pattern": {
              "fillmode": "overlay",
              "size": 10,
              "solidity": 0.2
             }
            },
            "type": "barpolar"
           }
          ],
          "carpet": [
           {
            "aaxis": {
             "endlinecolor": "#2a3f5f",
             "gridcolor": "white",
             "linecolor": "white",
             "minorgridcolor": "white",
             "startlinecolor": "#2a3f5f"
            },
            "baxis": {
             "endlinecolor": "#2a3f5f",
             "gridcolor": "white",
             "linecolor": "white",
             "minorgridcolor": "white",
             "startlinecolor": "#2a3f5f"
            },
            "type": "carpet"
           }
          ],
          "choropleth": [
           {
            "colorbar": {
             "outlinewidth": 0,
             "ticks": ""
            },
            "type": "choropleth"
           }
          ],
          "contour": [
           {
            "colorbar": {
             "outlinewidth": 0,
             "ticks": ""
            },
            "colorscale": [
             [
              0,
              "#0d0887"
             ],
             [
              0.1111111111111111,
              "#46039f"
             ],
             [
              0.2222222222222222,
              "#7201a8"
             ],
             [
              0.3333333333333333,
              "#9c179e"
             ],
             [
              0.4444444444444444,
              "#bd3786"
             ],
             [
              0.5555555555555556,
              "#d8576b"
             ],
             [
              0.6666666666666666,
              "#ed7953"
             ],
             [
              0.7777777777777778,
              "#fb9f3a"
             ],
             [
              0.8888888888888888,
              "#fdca26"
             ],
             [
              1,
              "#f0f921"
             ]
            ],
            "type": "contour"
           }
          ],
          "contourcarpet": [
           {
            "colorbar": {
             "outlinewidth": 0,
             "ticks": ""
            },
            "type": "contourcarpet"
           }
          ],
          "heatmap": [
           {
            "colorbar": {
             "outlinewidth": 0,
             "ticks": ""
            },
            "colorscale": [
             [
              0,
              "#0d0887"
             ],
             [
              0.1111111111111111,
              "#46039f"
             ],
             [
              0.2222222222222222,
              "#7201a8"
             ],
             [
              0.3333333333333333,
              "#9c179e"
             ],
             [
              0.4444444444444444,
              "#bd3786"
             ],
             [
              0.5555555555555556,
              "#d8576b"
             ],
             [
              0.6666666666666666,
              "#ed7953"
             ],
             [
              0.7777777777777778,
              "#fb9f3a"
             ],
             [
              0.8888888888888888,
              "#fdca26"
             ],
             [
              1,
              "#f0f921"
             ]
            ],
            "type": "heatmap"
           }
          ],
          "heatmapgl": [
           {
            "colorbar": {
             "outlinewidth": 0,
             "ticks": ""
            },
            "colorscale": [
             [
              0,
              "#0d0887"
             ],
             [
              0.1111111111111111,
              "#46039f"
             ],
             [
              0.2222222222222222,
              "#7201a8"
             ],
             [
              0.3333333333333333,
              "#9c179e"
             ],
             [
              0.4444444444444444,
              "#bd3786"
             ],
             [
              0.5555555555555556,
              "#d8576b"
             ],
             [
              0.6666666666666666,
              "#ed7953"
             ],
             [
              0.7777777777777778,
              "#fb9f3a"
             ],
             [
              0.8888888888888888,
              "#fdca26"
             ],
             [
              1,
              "#f0f921"
             ]
            ],
            "type": "heatmapgl"
           }
          ],
          "histogram": [
           {
            "marker": {
             "pattern": {
              "fillmode": "overlay",
              "size": 10,
              "solidity": 0.2
             }
            },
            "type": "histogram"
           }
          ],
          "histogram2d": [
           {
            "colorbar": {
             "outlinewidth": 0,
             "ticks": ""
            },
            "colorscale": [
             [
              0,
              "#0d0887"
             ],
             [
              0.1111111111111111,
              "#46039f"
             ],
             [
              0.2222222222222222,
              "#7201a8"
             ],
             [
              0.3333333333333333,
              "#9c179e"
             ],
             [
              0.4444444444444444,
              "#bd3786"
             ],
             [
              0.5555555555555556,
              "#d8576b"
             ],
             [
              0.6666666666666666,
              "#ed7953"
             ],
             [
              0.7777777777777778,
              "#fb9f3a"
             ],
             [
              0.8888888888888888,
              "#fdca26"
             ],
             [
              1,
              "#f0f921"
             ]
            ],
            "type": "histogram2d"
           }
          ],
          "histogram2dcontour": [
           {
            "colorbar": {
             "outlinewidth": 0,
             "ticks": ""
            },
            "colorscale": [
             [
              0,
              "#0d0887"
             ],
             [
              0.1111111111111111,
              "#46039f"
             ],
             [
              0.2222222222222222,
              "#7201a8"
             ],
             [
              0.3333333333333333,
              "#9c179e"
             ],
             [
              0.4444444444444444,
              "#bd3786"
             ],
             [
              0.5555555555555556,
              "#d8576b"
             ],
             [
              0.6666666666666666,
              "#ed7953"
             ],
             [
              0.7777777777777778,
              "#fb9f3a"
             ],
             [
              0.8888888888888888,
              "#fdca26"
             ],
             [
              1,
              "#f0f921"
             ]
            ],
            "type": "histogram2dcontour"
           }
          ],
          "mesh3d": [
           {
            "colorbar": {
             "outlinewidth": 0,
             "ticks": ""
            },
            "type": "mesh3d"
           }
          ],
          "parcoords": [
           {
            "line": {
             "colorbar": {
              "outlinewidth": 0,
              "ticks": ""
             }
            },
            "type": "parcoords"
           }
          ],
          "pie": [
           {
            "automargin": true,
            "type": "pie"
           }
          ],
          "scatter": [
           {
            "fillpattern": {
             "fillmode": "overlay",
             "size": 10,
             "solidity": 0.2
            },
            "type": "scatter"
           }
          ],
          "scatter3d": [
           {
            "line": {
             "colorbar": {
              "outlinewidth": 0,
              "ticks": ""
             }
            },
            "marker": {
             "colorbar": {
              "outlinewidth": 0,
              "ticks": ""
             }
            },
            "type": "scatter3d"
           }
          ],
          "scattercarpet": [
           {
            "marker": {
             "colorbar": {
              "outlinewidth": 0,
              "ticks": ""
             }
            },
            "type": "scattercarpet"
           }
          ],
          "scattergeo": [
           {
            "marker": {
             "colorbar": {
              "outlinewidth": 0,
              "ticks": ""
             }
            },
            "type": "scattergeo"
           }
          ],
          "scattergl": [
           {
            "marker": {
             "colorbar": {
              "outlinewidth": 0,
              "ticks": ""
             }
            },
            "type": "scattergl"
           }
          ],
          "scattermapbox": [
           {
            "marker": {
             "colorbar": {
              "outlinewidth": 0,
              "ticks": ""
             }
            },
            "type": "scattermapbox"
           }
          ],
          "scatterpolar": [
           {
            "marker": {
             "colorbar": {
              "outlinewidth": 0,
              "ticks": ""
             }
            },
            "type": "scatterpolar"
           }
          ],
          "scatterpolargl": [
           {
            "marker": {
             "colorbar": {
              "outlinewidth": 0,
              "ticks": ""
             }
            },
            "type": "scatterpolargl"
           }
          ],
          "scatterternary": [
           {
            "marker": {
             "colorbar": {
              "outlinewidth": 0,
              "ticks": ""
             }
            },
            "type": "scatterternary"
           }
          ],
          "surface": [
           {
            "colorbar": {
             "outlinewidth": 0,
             "ticks": ""
            },
            "colorscale": [
             [
              0,
              "#0d0887"
             ],
             [
              0.1111111111111111,
              "#46039f"
             ],
             [
              0.2222222222222222,
              "#7201a8"
             ],
             [
              0.3333333333333333,
              "#9c179e"
             ],
             [
              0.4444444444444444,
              "#bd3786"
             ],
             [
              0.5555555555555556,
              "#d8576b"
             ],
             [
              0.6666666666666666,
              "#ed7953"
             ],
             [
              0.7777777777777778,
              "#fb9f3a"
             ],
             [
              0.8888888888888888,
              "#fdca26"
             ],
             [
              1,
              "#f0f921"
             ]
            ],
            "type": "surface"
           }
          ],
          "table": [
           {
            "cells": {
             "fill": {
              "color": "#EBF0F8"
             },
             "line": {
              "color": "white"
             }
            },
            "header": {
             "fill": {
              "color": "#C8D4E3"
             },
             "line": {
              "color": "white"
             }
            },
            "type": "table"
           }
          ]
         },
         "layout": {
          "annotationdefaults": {
           "arrowcolor": "#2a3f5f",
           "arrowhead": 0,
           "arrowwidth": 1
          },
          "autotypenumbers": "strict",
          "coloraxis": {
           "colorbar": {
            "outlinewidth": 0,
            "ticks": ""
           }
          },
          "colorscale": {
           "diverging": [
            [
             0,
             "#8e0152"
            ],
            [
             0.1,
             "#c51b7d"
            ],
            [
             0.2,
             "#de77ae"
            ],
            [
             0.3,
             "#f1b6da"
            ],
            [
             0.4,
             "#fde0ef"
            ],
            [
             0.5,
             "#f7f7f7"
            ],
            [
             0.6,
             "#e6f5d0"
            ],
            [
             0.7,
             "#b8e186"
            ],
            [
             0.8,
             "#7fbc41"
            ],
            [
             0.9,
             "#4d9221"
            ],
            [
             1,
             "#276419"
            ]
           ],
           "sequential": [
            [
             0,
             "#0d0887"
            ],
            [
             0.1111111111111111,
             "#46039f"
            ],
            [
             0.2222222222222222,
             "#7201a8"
            ],
            [
             0.3333333333333333,
             "#9c179e"
            ],
            [
             0.4444444444444444,
             "#bd3786"
            ],
            [
             0.5555555555555556,
             "#d8576b"
            ],
            [
             0.6666666666666666,
             "#ed7953"
            ],
            [
             0.7777777777777778,
             "#fb9f3a"
            ],
            [
             0.8888888888888888,
             "#fdca26"
            ],
            [
             1,
             "#f0f921"
            ]
           ],
           "sequentialminus": [
            [
             0,
             "#0d0887"
            ],
            [
             0.1111111111111111,
             "#46039f"
            ],
            [
             0.2222222222222222,
             "#7201a8"
            ],
            [
             0.3333333333333333,
             "#9c179e"
            ],
            [
             0.4444444444444444,
             "#bd3786"
            ],
            [
             0.5555555555555556,
             "#d8576b"
            ],
            [
             0.6666666666666666,
             "#ed7953"
            ],
            [
             0.7777777777777778,
             "#fb9f3a"
            ],
            [
             0.8888888888888888,
             "#fdca26"
            ],
            [
             1,
             "#f0f921"
            ]
           ]
          },
          "colorway": [
           "#636efa",
           "#EF553B",
           "#00cc96",
           "#ab63fa",
           "#FFA15A",
           "#19d3f3",
           "#FF6692",
           "#B6E880",
           "#FF97FF",
           "#FECB52"
          ],
          "font": {
           "color": "#2a3f5f"
          },
          "geo": {
           "bgcolor": "white",
           "lakecolor": "white",
           "landcolor": "#E5ECF6",
           "showlakes": true,
           "showland": true,
           "subunitcolor": "white"
          },
          "hoverlabel": {
           "align": "left"
          },
          "hovermode": "closest",
          "mapbox": {
           "style": "light"
          },
          "paper_bgcolor": "white",
          "plot_bgcolor": "#E5ECF6",
          "polar": {
           "angularaxis": {
            "gridcolor": "white",
            "linecolor": "white",
            "ticks": ""
           },
           "bgcolor": "#E5ECF6",
           "radialaxis": {
            "gridcolor": "white",
            "linecolor": "white",
            "ticks": ""
           }
          },
          "scene": {
           "xaxis": {
            "backgroundcolor": "#E5ECF6",
            "gridcolor": "white",
            "gridwidth": 2,
            "linecolor": "white",
            "showbackground": true,
            "ticks": "",
            "zerolinecolor": "white"
           },
           "yaxis": {
            "backgroundcolor": "#E5ECF6",
            "gridcolor": "white",
            "gridwidth": 2,
            "linecolor": "white",
            "showbackground": true,
            "ticks": "",
            "zerolinecolor": "white"
           },
           "zaxis": {
            "backgroundcolor": "#E5ECF6",
            "gridcolor": "white",
            "gridwidth": 2,
            "linecolor": "white",
            "showbackground": true,
            "ticks": "",
            "zerolinecolor": "white"
           }
          },
          "shapedefaults": {
           "line": {
            "color": "#2a3f5f"
           }
          },
          "ternary": {
           "aaxis": {
            "gridcolor": "white",
            "linecolor": "white",
            "ticks": ""
           },
           "baxis": {
            "gridcolor": "white",
            "linecolor": "white",
            "ticks": ""
           },
           "bgcolor": "#E5ECF6",
           "caxis": {
            "gridcolor": "white",
            "linecolor": "white",
            "ticks": ""
           }
          },
          "title": {
           "x": 0.05
          },
          "xaxis": {
           "automargin": true,
           "gridcolor": "white",
           "linecolor": "white",
           "ticks": "",
           "title": {
            "standoff": 15
           },
           "zerolinecolor": "white",
           "zerolinewidth": 2
          },
          "yaxis": {
           "automargin": true,
           "gridcolor": "white",
           "linecolor": "white",
           "ticks": "",
           "title": {
            "standoff": 15
           },
           "zerolinecolor": "white",
           "zerolinewidth": 2
          }
         }
        }
       }
      }
     },
     "metadata": {},
     "output_type": "display_data"
    }
   ],
   "source": [
    "GRU_history = json.load(open(\"./history/GRU_history.json\", 'r'))\n",
    "model_gru = tf.keras.models.load_model(\"./model/model_gru.h5\")\n",
    "\n",
    "fig = go.Figure()\n",
    "fig.add_trace(go.Scatter(y=GRU_history[\"loss\"],\n",
    "                    mode='lines',\n",
    "                    name='loss'))\n",
    "fig.add_trace(go.Scatter(y=GRU_history[\"val_loss\"],\n",
    "                    mode='lines',\n",
    "                    name='val_loss'))\n",
    "fig.show()"
   ]
  },
  {
   "cell_type": "markdown",
   "metadata": {},
   "source": [
    "c) LSTM"
   ]
  },
  {
   "cell_type": "code",
   "execution_count": 420,
   "metadata": {},
   "outputs": [
    {
     "name": "stderr",
     "output_type": "stream",
     "text": [
      "WARNING:absl:At this time, the v2.11+ optimizer `tf.keras.optimizers.Adam` runs slowly on M1/M2 Macs, please use the legacy Keras optimizer instead, located at `tf.keras.optimizers.legacy.Adam`.\n"
     ]
    },
    {
     "data": {
      "application/vnd.plotly.v1+json": {
       "config": {
        "plotlyServerURL": "https://plot.ly"
       },
       "data": [
        {
         "mode": "lines",
         "name": "loss",
         "type": "scatter",
         "y": [
          0.6930292844772339,
          0.6927357316017151,
          0.6927698850631714,
          0.6897671222686768,
          0.2660548686981201,
          0.18579256534576416,
          0.1569393426179886,
          0.16649101674556732,
          0.15851911902427673,
          0.1487610936164856,
          0.14630913734436035,
          0.16563178598880768,
          0.1401505172252655,
          0.22272123396396637,
          0.4529448449611664,
          0.43642935156822205,
          0.4295450747013092,
          0.421624094247818,
          0.41649460792541504,
          0.40876245498657227,
          0.3932451903820038,
          0.38870441913604736,
          0.3847395181655884,
          0.3878525495529175,
          0.3775220811367035,
          0.37086713314056396,
          0.3703637421131134,
          0.36822274327278137,
          0.36031419038772583,
          0.3597891330718994,
          0.35976672172546387,
          0.35845211148262024,
          0.358669638633728,
          0.36318179965019226,
          0.3584532141685486,
          0.36016979813575745,
          0.35196906328201294,
          0.36540746688842773,
          0.4024634063243866,
          0.23543769121170044,
          0.1418827921152115,
          0.15391017496585846,
          0.17844641208648682,
          0.14261002838611603,
          0.13910488784313202,
          0.12872739136219025,
          0.12658002972602844,
          0.12625600397586823,
          0.12233021855354309,
          0.12290659546852112,
          0.12282120436429977,
          0.12277957051992416,
          0.12400489300489426,
          0.12257890403270721,
          0.12180891633033752,
          0.12391015887260437,
          0.12449955195188522,
          0.12632951140403748,
          0.12848825752735138,
          0.129515141248703,
          0.1269247680902481,
          0.12706854939460754,
          0.12906423211097717,
          0.12884895503520966,
          0.1286764144897461,
          0.12663483619689941,
          0.1269529014825821,
          0.12629450857639313,
          0.12572702765464783,
          0.12669683992862701,
          0.1258706897497177,
          0.12628701329231262,
          0.1290915459394455,
          0.1286872774362564,
          0.13897950947284698,
          0.13176275789737701,
          0.13121098279953003,
          0.13043007254600525,
          0.12975525856018066,
          0.13116131722927094,
          0.12933672964572906,
          0.12952573597431183,
          0.1296580284833908,
          0.13104760646820068,
          0.12983939051628113,
          0.12679371237754822,
          0.12719318270683289,
          0.1266452819108963,
          0.1268322616815567,
          0.12760892510414124,
          0.1270187944173813,
          0.1280108094215393,
          0.12469641864299774,
          0.1240679919719696,
          0.12402146309614182,
          0.12549862265586853,
          0.12455285340547562,
          0.12405798584222794,
          0.1242842972278595,
          0.12381023913621902
         ]
        },
        {
         "mode": "lines",
         "name": "val_loss",
         "type": "scatter",
         "y": [
          0.687511146068573,
          0.6935547590255737,
          0.6907490491867065,
          0.6658793687820435,
          0.1807458996772766,
          0.14275336265563965,
          0.1870386302471161,
          0.18472068011760712,
          0.18219535052776337,
          0.15828590095043182,
          0.161366805434227,
          0.17192336916923523,
          0.16918551921844482,
          0.4585699439048767,
          0.47145867347717285,
          0.4886128008365631,
          0.48642975091934204,
          0.4672006070613861,
          0.47676825523376465,
          0.45907899737358093,
          0.44222190976142883,
          0.4464576542377472,
          0.42916393280029297,
          0.44977492094039917,
          0.43829959630966187,
          0.4251663386821747,
          0.4289291501045227,
          0.429114431142807,
          0.4293380081653595,
          0.4195192754268646,
          0.42373770475387573,
          0.43458759784698486,
          0.4365997016429901,
          0.4442518651485443,
          0.44509392976760864,
          0.350509375333786,
          0.4032477140426636,
          0.4661380648612976,
          0.39410486817359924,
          0.18610678613185883,
          0.1575886458158493,
          0.2196112424135208,
          0.21094486117362976,
          0.18300434947013855,
          0.18741361796855927,
          0.1892222911119461,
          0.1846287101507187,
          0.1912437379360199,
          0.18552017211914062,
          0.19465798139572144,
          0.18454857170581818,
          0.16513322293758392,
          0.2373887449502945,
          0.26083695888519287,
          0.191811665892601,
          0.21923570334911346,
          0.2593328654766083,
          0.20366300642490387,
          0.19864968955516815,
          0.23419241607189178,
          0.26830628514289856,
          0.24159540235996246,
          0.26352420449256897,
          0.23334041237831116,
          0.27626270055770874,
          0.27389949560165405,
          0.2686951756477356,
          0.28161177039146423,
          0.26751869916915894,
          0.283701628446579,
          0.2577701508998871,
          0.26230570673942566,
          0.31212151050567627,
          0.25611090660095215,
          0.23956379294395447,
          0.2504633665084839,
          0.2395007163286209,
          0.25169837474823,
          0.25405463576316833,
          0.24859564006328583,
          0.24948269128799438,
          0.24252158403396606,
          0.23616065084934235,
          0.24389000236988068,
          0.23357945680618286,
          0.23271127045154572,
          0.25044065713882446,
          0.24305357038974762,
          0.25442108511924744,
          0.2615490257740021,
          0.24840007722377777,
          0.2370203286409378,
          0.25044238567352295,
          0.25972238183021545,
          0.24322158098220825,
          0.2873188555240631,
          0.21590718626976013,
          0.2644745111465454,
          0.2512702941894531,
          0.24775812029838562
         ]
        }
       ],
       "layout": {
        "template": {
         "data": {
          "bar": [
           {
            "error_x": {
             "color": "#2a3f5f"
            },
            "error_y": {
             "color": "#2a3f5f"
            },
            "marker": {
             "line": {
              "color": "#E5ECF6",
              "width": 0.5
             },
             "pattern": {
              "fillmode": "overlay",
              "size": 10,
              "solidity": 0.2
             }
            },
            "type": "bar"
           }
          ],
          "barpolar": [
           {
            "marker": {
             "line": {
              "color": "#E5ECF6",
              "width": 0.5
             },
             "pattern": {
              "fillmode": "overlay",
              "size": 10,
              "solidity": 0.2
             }
            },
            "type": "barpolar"
           }
          ],
          "carpet": [
           {
            "aaxis": {
             "endlinecolor": "#2a3f5f",
             "gridcolor": "white",
             "linecolor": "white",
             "minorgridcolor": "white",
             "startlinecolor": "#2a3f5f"
            },
            "baxis": {
             "endlinecolor": "#2a3f5f",
             "gridcolor": "white",
             "linecolor": "white",
             "minorgridcolor": "white",
             "startlinecolor": "#2a3f5f"
            },
            "type": "carpet"
           }
          ],
          "choropleth": [
           {
            "colorbar": {
             "outlinewidth": 0,
             "ticks": ""
            },
            "type": "choropleth"
           }
          ],
          "contour": [
           {
            "colorbar": {
             "outlinewidth": 0,
             "ticks": ""
            },
            "colorscale": [
             [
              0,
              "#0d0887"
             ],
             [
              0.1111111111111111,
              "#46039f"
             ],
             [
              0.2222222222222222,
              "#7201a8"
             ],
             [
              0.3333333333333333,
              "#9c179e"
             ],
             [
              0.4444444444444444,
              "#bd3786"
             ],
             [
              0.5555555555555556,
              "#d8576b"
             ],
             [
              0.6666666666666666,
              "#ed7953"
             ],
             [
              0.7777777777777778,
              "#fb9f3a"
             ],
             [
              0.8888888888888888,
              "#fdca26"
             ],
             [
              1,
              "#f0f921"
             ]
            ],
            "type": "contour"
           }
          ],
          "contourcarpet": [
           {
            "colorbar": {
             "outlinewidth": 0,
             "ticks": ""
            },
            "type": "contourcarpet"
           }
          ],
          "heatmap": [
           {
            "colorbar": {
             "outlinewidth": 0,
             "ticks": ""
            },
            "colorscale": [
             [
              0,
              "#0d0887"
             ],
             [
              0.1111111111111111,
              "#46039f"
             ],
             [
              0.2222222222222222,
              "#7201a8"
             ],
             [
              0.3333333333333333,
              "#9c179e"
             ],
             [
              0.4444444444444444,
              "#bd3786"
             ],
             [
              0.5555555555555556,
              "#d8576b"
             ],
             [
              0.6666666666666666,
              "#ed7953"
             ],
             [
              0.7777777777777778,
              "#fb9f3a"
             ],
             [
              0.8888888888888888,
              "#fdca26"
             ],
             [
              1,
              "#f0f921"
             ]
            ],
            "type": "heatmap"
           }
          ],
          "heatmapgl": [
           {
            "colorbar": {
             "outlinewidth": 0,
             "ticks": ""
            },
            "colorscale": [
             [
              0,
              "#0d0887"
             ],
             [
              0.1111111111111111,
              "#46039f"
             ],
             [
              0.2222222222222222,
              "#7201a8"
             ],
             [
              0.3333333333333333,
              "#9c179e"
             ],
             [
              0.4444444444444444,
              "#bd3786"
             ],
             [
              0.5555555555555556,
              "#d8576b"
             ],
             [
              0.6666666666666666,
              "#ed7953"
             ],
             [
              0.7777777777777778,
              "#fb9f3a"
             ],
             [
              0.8888888888888888,
              "#fdca26"
             ],
             [
              1,
              "#f0f921"
             ]
            ],
            "type": "heatmapgl"
           }
          ],
          "histogram": [
           {
            "marker": {
             "pattern": {
              "fillmode": "overlay",
              "size": 10,
              "solidity": 0.2
             }
            },
            "type": "histogram"
           }
          ],
          "histogram2d": [
           {
            "colorbar": {
             "outlinewidth": 0,
             "ticks": ""
            },
            "colorscale": [
             [
              0,
              "#0d0887"
             ],
             [
              0.1111111111111111,
              "#46039f"
             ],
             [
              0.2222222222222222,
              "#7201a8"
             ],
             [
              0.3333333333333333,
              "#9c179e"
             ],
             [
              0.4444444444444444,
              "#bd3786"
             ],
             [
              0.5555555555555556,
              "#d8576b"
             ],
             [
              0.6666666666666666,
              "#ed7953"
             ],
             [
              0.7777777777777778,
              "#fb9f3a"
             ],
             [
              0.8888888888888888,
              "#fdca26"
             ],
             [
              1,
              "#f0f921"
             ]
            ],
            "type": "histogram2d"
           }
          ],
          "histogram2dcontour": [
           {
            "colorbar": {
             "outlinewidth": 0,
             "ticks": ""
            },
            "colorscale": [
             [
              0,
              "#0d0887"
             ],
             [
              0.1111111111111111,
              "#46039f"
             ],
             [
              0.2222222222222222,
              "#7201a8"
             ],
             [
              0.3333333333333333,
              "#9c179e"
             ],
             [
              0.4444444444444444,
              "#bd3786"
             ],
             [
              0.5555555555555556,
              "#d8576b"
             ],
             [
              0.6666666666666666,
              "#ed7953"
             ],
             [
              0.7777777777777778,
              "#fb9f3a"
             ],
             [
              0.8888888888888888,
              "#fdca26"
             ],
             [
              1,
              "#f0f921"
             ]
            ],
            "type": "histogram2dcontour"
           }
          ],
          "mesh3d": [
           {
            "colorbar": {
             "outlinewidth": 0,
             "ticks": ""
            },
            "type": "mesh3d"
           }
          ],
          "parcoords": [
           {
            "line": {
             "colorbar": {
              "outlinewidth": 0,
              "ticks": ""
             }
            },
            "type": "parcoords"
           }
          ],
          "pie": [
           {
            "automargin": true,
            "type": "pie"
           }
          ],
          "scatter": [
           {
            "fillpattern": {
             "fillmode": "overlay",
             "size": 10,
             "solidity": 0.2
            },
            "type": "scatter"
           }
          ],
          "scatter3d": [
           {
            "line": {
             "colorbar": {
              "outlinewidth": 0,
              "ticks": ""
             }
            },
            "marker": {
             "colorbar": {
              "outlinewidth": 0,
              "ticks": ""
             }
            },
            "type": "scatter3d"
           }
          ],
          "scattercarpet": [
           {
            "marker": {
             "colorbar": {
              "outlinewidth": 0,
              "ticks": ""
             }
            },
            "type": "scattercarpet"
           }
          ],
          "scattergeo": [
           {
            "marker": {
             "colorbar": {
              "outlinewidth": 0,
              "ticks": ""
             }
            },
            "type": "scattergeo"
           }
          ],
          "scattergl": [
           {
            "marker": {
             "colorbar": {
              "outlinewidth": 0,
              "ticks": ""
             }
            },
            "type": "scattergl"
           }
          ],
          "scattermapbox": [
           {
            "marker": {
             "colorbar": {
              "outlinewidth": 0,
              "ticks": ""
             }
            },
            "type": "scattermapbox"
           }
          ],
          "scatterpolar": [
           {
            "marker": {
             "colorbar": {
              "outlinewidth": 0,
              "ticks": ""
             }
            },
            "type": "scatterpolar"
           }
          ],
          "scatterpolargl": [
           {
            "marker": {
             "colorbar": {
              "outlinewidth": 0,
              "ticks": ""
             }
            },
            "type": "scatterpolargl"
           }
          ],
          "scatterternary": [
           {
            "marker": {
             "colorbar": {
              "outlinewidth": 0,
              "ticks": ""
             }
            },
            "type": "scatterternary"
           }
          ],
          "surface": [
           {
            "colorbar": {
             "outlinewidth": 0,
             "ticks": ""
            },
            "colorscale": [
             [
              0,
              "#0d0887"
             ],
             [
              0.1111111111111111,
              "#46039f"
             ],
             [
              0.2222222222222222,
              "#7201a8"
             ],
             [
              0.3333333333333333,
              "#9c179e"
             ],
             [
              0.4444444444444444,
              "#bd3786"
             ],
             [
              0.5555555555555556,
              "#d8576b"
             ],
             [
              0.6666666666666666,
              "#ed7953"
             ],
             [
              0.7777777777777778,
              "#fb9f3a"
             ],
             [
              0.8888888888888888,
              "#fdca26"
             ],
             [
              1,
              "#f0f921"
             ]
            ],
            "type": "surface"
           }
          ],
          "table": [
           {
            "cells": {
             "fill": {
              "color": "#EBF0F8"
             },
             "line": {
              "color": "white"
             }
            },
            "header": {
             "fill": {
              "color": "#C8D4E3"
             },
             "line": {
              "color": "white"
             }
            },
            "type": "table"
           }
          ]
         },
         "layout": {
          "annotationdefaults": {
           "arrowcolor": "#2a3f5f",
           "arrowhead": 0,
           "arrowwidth": 1
          },
          "autotypenumbers": "strict",
          "coloraxis": {
           "colorbar": {
            "outlinewidth": 0,
            "ticks": ""
           }
          },
          "colorscale": {
           "diverging": [
            [
             0,
             "#8e0152"
            ],
            [
             0.1,
             "#c51b7d"
            ],
            [
             0.2,
             "#de77ae"
            ],
            [
             0.3,
             "#f1b6da"
            ],
            [
             0.4,
             "#fde0ef"
            ],
            [
             0.5,
             "#f7f7f7"
            ],
            [
             0.6,
             "#e6f5d0"
            ],
            [
             0.7,
             "#b8e186"
            ],
            [
             0.8,
             "#7fbc41"
            ],
            [
             0.9,
             "#4d9221"
            ],
            [
             1,
             "#276419"
            ]
           ],
           "sequential": [
            [
             0,
             "#0d0887"
            ],
            [
             0.1111111111111111,
             "#46039f"
            ],
            [
             0.2222222222222222,
             "#7201a8"
            ],
            [
             0.3333333333333333,
             "#9c179e"
            ],
            [
             0.4444444444444444,
             "#bd3786"
            ],
            [
             0.5555555555555556,
             "#d8576b"
            ],
            [
             0.6666666666666666,
             "#ed7953"
            ],
            [
             0.7777777777777778,
             "#fb9f3a"
            ],
            [
             0.8888888888888888,
             "#fdca26"
            ],
            [
             1,
             "#f0f921"
            ]
           ],
           "sequentialminus": [
            [
             0,
             "#0d0887"
            ],
            [
             0.1111111111111111,
             "#46039f"
            ],
            [
             0.2222222222222222,
             "#7201a8"
            ],
            [
             0.3333333333333333,
             "#9c179e"
            ],
            [
             0.4444444444444444,
             "#bd3786"
            ],
            [
             0.5555555555555556,
             "#d8576b"
            ],
            [
             0.6666666666666666,
             "#ed7953"
            ],
            [
             0.7777777777777778,
             "#fb9f3a"
            ],
            [
             0.8888888888888888,
             "#fdca26"
            ],
            [
             1,
             "#f0f921"
            ]
           ]
          },
          "colorway": [
           "#636efa",
           "#EF553B",
           "#00cc96",
           "#ab63fa",
           "#FFA15A",
           "#19d3f3",
           "#FF6692",
           "#B6E880",
           "#FF97FF",
           "#FECB52"
          ],
          "font": {
           "color": "#2a3f5f"
          },
          "geo": {
           "bgcolor": "white",
           "lakecolor": "white",
           "landcolor": "#E5ECF6",
           "showlakes": true,
           "showland": true,
           "subunitcolor": "white"
          },
          "hoverlabel": {
           "align": "left"
          },
          "hovermode": "closest",
          "mapbox": {
           "style": "light"
          },
          "paper_bgcolor": "white",
          "plot_bgcolor": "#E5ECF6",
          "polar": {
           "angularaxis": {
            "gridcolor": "white",
            "linecolor": "white",
            "ticks": ""
           },
           "bgcolor": "#E5ECF6",
           "radialaxis": {
            "gridcolor": "white",
            "linecolor": "white",
            "ticks": ""
           }
          },
          "scene": {
           "xaxis": {
            "backgroundcolor": "#E5ECF6",
            "gridcolor": "white",
            "gridwidth": 2,
            "linecolor": "white",
            "showbackground": true,
            "ticks": "",
            "zerolinecolor": "white"
           },
           "yaxis": {
            "backgroundcolor": "#E5ECF6",
            "gridcolor": "white",
            "gridwidth": 2,
            "linecolor": "white",
            "showbackground": true,
            "ticks": "",
            "zerolinecolor": "white"
           },
           "zaxis": {
            "backgroundcolor": "#E5ECF6",
            "gridcolor": "white",
            "gridwidth": 2,
            "linecolor": "white",
            "showbackground": true,
            "ticks": "",
            "zerolinecolor": "white"
           }
          },
          "shapedefaults": {
           "line": {
            "color": "#2a3f5f"
           }
          },
          "ternary": {
           "aaxis": {
            "gridcolor": "white",
            "linecolor": "white",
            "ticks": ""
           },
           "baxis": {
            "gridcolor": "white",
            "linecolor": "white",
            "ticks": ""
           },
           "bgcolor": "#E5ECF6",
           "caxis": {
            "gridcolor": "white",
            "linecolor": "white",
            "ticks": ""
           }
          },
          "title": {
           "x": 0.05
          },
          "xaxis": {
           "automargin": true,
           "gridcolor": "white",
           "linecolor": "white",
           "ticks": "",
           "title": {
            "standoff": 15
           },
           "zerolinecolor": "white",
           "zerolinewidth": 2
          },
          "yaxis": {
           "automargin": true,
           "gridcolor": "white",
           "linecolor": "white",
           "ticks": "",
           "title": {
            "standoff": 15
           },
           "zerolinecolor": "white",
           "zerolinewidth": 2
          }
         }
        }
       }
      }
     },
     "metadata": {},
     "output_type": "display_data"
    }
   ],
   "source": [
    "LSTM_history = json.load(open(\"./history/LSTM_history.json\", 'r'))\n",
    "model_lstm = tf.keras.models.load_model(\"./model/model_lstm.h5\")\n",
    "\n",
    "fig = go.Figure()\n",
    "fig.add_trace(go.Scatter(y=LSTM_history[\"loss\"],\n",
    "                    mode='lines',\n",
    "                    name='loss'))\n",
    "fig.add_trace(go.Scatter(y=LSTM_history[\"val_loss\"],\n",
    "                    mode='lines',\n",
    "                    name='val_loss'))\n",
    "fig.show()\n"
   ]
  },
  {
   "cell_type": "markdown",
   "metadata": {},
   "source": [
    "d) LSTM with Attention"
   ]
  },
  {
   "cell_type": "code",
   "execution_count": 422,
   "metadata": {},
   "outputs": [
    {
     "name": "stderr",
     "output_type": "stream",
     "text": [
      "WARNING:absl:At this time, the v2.11+ optimizer `tf.keras.optimizers.Adam` runs slowly on M1/M2 Macs, please use the legacy Keras optimizer instead, located at `tf.keras.optimizers.legacy.Adam`.\n"
     ]
    },
    {
     "data": {
      "application/vnd.plotly.v1+json": {
       "config": {
        "plotlyServerURL": "https://plot.ly"
       },
       "data": [
        {
         "mode": "lines",
         "name": "loss",
         "type": "scatter",
         "y": [
          0.6076436638832092,
          0.20462831854820251,
          0.20102602243423462,
          0.2437218278646469,
          0.21374300122261047,
          0.450937956571579,
          0.5528444051742554,
          0.4865621328353882,
          0.45020467042922974,
          0.36892470717430115,
          0.3596419095993042,
          0.38109299540519714,
          0.3851868510246277,
          0.38426506519317627,
          0.3921843469142914,
          0.4042667746543884,
          0.41103121638298035,
          0.42137157917022705,
          0.45321205258369446,
          0.49355313181877136,
          0.5178327560424805,
          0.5828719735145569,
          0.4039436876773834,
          0.2555936574935913,
          0.594371497631073,
          0.41612714529037476,
          0.268302321434021,
          0.2468138486146927,
          0.19743375480175018,
          0.17852474749088287,
          0.15610577166080475,
          0.15268665552139282,
          0.15483039617538452,
          0.14668196439743042,
          0.1397937387228012,
          0.13948966562747955,
          0.1375652551651001,
          0.13702480494976044,
          0.13680844008922577,
          0.13650822639465332,
          0.13759954273700714,
          0.13576914370059967,
          0.1334780752658844,
          0.13294170796871185,
          0.1334753930568695,
          0.1326744258403778,
          0.13670440018177032,
          0.13435350358486176,
          0.1282350718975067,
          0.1273823231458664,
          0.12777143716812134,
          0.1266164928674698,
          0.12707455456256866,
          0.12851038575172424,
          0.12706167995929718,
          0.12574590742588043,
          0.11890081316232681,
          0.11855719983577728,
          0.1213674545288086,
          0.1201740950345993,
          0.12015343457460403,
          0.12093697488307953,
          0.12686340510845184,
          0.12279385328292847,
          0.11873915791511536,
          0.11667072772979736,
          0.11611592024564743,
          0.1121598333120346,
          0.1059081107378006,
          0.10420644283294678,
          0.1038626953959465,
          0.1041327714920044,
          0.10418559610843658,
          0.10369843989610672,
          0.10372534394264221,
          0.10413077473640442,
          0.10339953005313873,
          0.1037004292011261,
          0.10380922257900238,
          0.10426057130098343,
          0.10352710634469986,
          0.10366813838481903,
          0.10367489606142044,
          0.10364125669002533,
          0.10368963330984116,
          0.10368069261312485,
          0.10360441356897354,
          0.1035216748714447,
          0.1042218804359436,
          0.103848896920681,
          0.10489055514335632,
          0.10360314697027206,
          0.10362455248832703,
          0.10371414572000504,
          0.10410279035568237,
          0.10371646285057068,
          0.10376174747943878,
          0.10376444458961487,
          0.10392668098211288,
          0.10432061553001404
         ]
        },
        {
         "mode": "lines",
         "name": "val_loss",
         "type": "scatter",
         "y": [
          0.25511467456817627,
          0.19854536652565002,
          0.15032750368118286,
          0.2737606167793274,
          0.17564217746257782,
          0.60359126329422,
          0.5747023820877075,
          0.5229123830795288,
          0.43221786618232727,
          0.28365352749824524,
          0.3537534177303314,
          0.33470413088798523,
          0.3420816659927368,
          0.33458173274993896,
          0.3495933413505554,
          0.36384817957878113,
          0.35906440019607544,
          0.39235472679138184,
          0.4360255300998688,
          0.430347204208374,
          0.47405415773391724,
          0.6217142939567566,
          0.23518870770931244,
          0.19697389006614685,
          0.7008968591690063,
          0.31951573491096497,
          0.27317535877227783,
          0.2001398205757141,
          0.159262552857399,
          0.17206834256649017,
          0.16643136739730835,
          0.16077588498592377,
          0.21773980557918549,
          0.20099325478076935,
          0.18379950523376465,
          0.17998425662517548,
          0.20065344870090485,
          0.1975529044866562,
          0.19928686320781708,
          0.1817423403263092,
          0.14606674015522003,
          0.17349687218666077,
          0.16938620805740356,
          0.16016489267349243,
          0.14673687517642975,
          0.150114968419075,
          0.15506497025489807,
          0.16133025288581848,
          0.15167459845542908,
          0.14320828020572662,
          0.14856386184692383,
          0.14702919125556946,
          0.1462380290031433,
          0.14823757112026215,
          0.13467620313167572,
          0.14475615322589874,
          0.1469382643699646,
          0.14748874306678772,
          0.1485537439584732,
          0.15271303057670593,
          0.1538788080215454,
          0.18378698825836182,
          0.15599651634693146,
          0.15737013518810272,
          0.185867041349411,
          0.17699357867240906,
          0.16831374168395996,
          0.18166732788085938,
          0.14048205316066742,
          0.16962596774101257,
          0.1723664402961731,
          0.17361600697040558,
          0.17465804517269135,
          0.17546983063220978,
          0.17621757090091705,
          0.17810216546058655,
          0.17706766724586487,
          0.1789262741804123,
          0.181682288646698,
          0.18374286592006683,
          0.1810988038778305,
          0.18060113489627838,
          0.18609768152236938,
          0.18544045090675354,
          0.18630343675613403,
          0.19026075303554535,
          0.1899493783712387,
          0.1898617297410965,
          0.18569855391979218,
          0.18841473758220673,
          0.1940675526857376,
          0.19276069104671478,
          0.19375833868980408,
          0.19499748945236206,
          0.1775943636894226,
          0.17141608893871307,
          0.1782224327325821,
          0.17426110804080963,
          0.17391152679920197,
          0.1750074177980423
         ]
        }
       ],
       "layout": {
        "template": {
         "data": {
          "bar": [
           {
            "error_x": {
             "color": "#2a3f5f"
            },
            "error_y": {
             "color": "#2a3f5f"
            },
            "marker": {
             "line": {
              "color": "#E5ECF6",
              "width": 0.5
             },
             "pattern": {
              "fillmode": "overlay",
              "size": 10,
              "solidity": 0.2
             }
            },
            "type": "bar"
           }
          ],
          "barpolar": [
           {
            "marker": {
             "line": {
              "color": "#E5ECF6",
              "width": 0.5
             },
             "pattern": {
              "fillmode": "overlay",
              "size": 10,
              "solidity": 0.2
             }
            },
            "type": "barpolar"
           }
          ],
          "carpet": [
           {
            "aaxis": {
             "endlinecolor": "#2a3f5f",
             "gridcolor": "white",
             "linecolor": "white",
             "minorgridcolor": "white",
             "startlinecolor": "#2a3f5f"
            },
            "baxis": {
             "endlinecolor": "#2a3f5f",
             "gridcolor": "white",
             "linecolor": "white",
             "minorgridcolor": "white",
             "startlinecolor": "#2a3f5f"
            },
            "type": "carpet"
           }
          ],
          "choropleth": [
           {
            "colorbar": {
             "outlinewidth": 0,
             "ticks": ""
            },
            "type": "choropleth"
           }
          ],
          "contour": [
           {
            "colorbar": {
             "outlinewidth": 0,
             "ticks": ""
            },
            "colorscale": [
             [
              0,
              "#0d0887"
             ],
             [
              0.1111111111111111,
              "#46039f"
             ],
             [
              0.2222222222222222,
              "#7201a8"
             ],
             [
              0.3333333333333333,
              "#9c179e"
             ],
             [
              0.4444444444444444,
              "#bd3786"
             ],
             [
              0.5555555555555556,
              "#d8576b"
             ],
             [
              0.6666666666666666,
              "#ed7953"
             ],
             [
              0.7777777777777778,
              "#fb9f3a"
             ],
             [
              0.8888888888888888,
              "#fdca26"
             ],
             [
              1,
              "#f0f921"
             ]
            ],
            "type": "contour"
           }
          ],
          "contourcarpet": [
           {
            "colorbar": {
             "outlinewidth": 0,
             "ticks": ""
            },
            "type": "contourcarpet"
           }
          ],
          "heatmap": [
           {
            "colorbar": {
             "outlinewidth": 0,
             "ticks": ""
            },
            "colorscale": [
             [
              0,
              "#0d0887"
             ],
             [
              0.1111111111111111,
              "#46039f"
             ],
             [
              0.2222222222222222,
              "#7201a8"
             ],
             [
              0.3333333333333333,
              "#9c179e"
             ],
             [
              0.4444444444444444,
              "#bd3786"
             ],
             [
              0.5555555555555556,
              "#d8576b"
             ],
             [
              0.6666666666666666,
              "#ed7953"
             ],
             [
              0.7777777777777778,
              "#fb9f3a"
             ],
             [
              0.8888888888888888,
              "#fdca26"
             ],
             [
              1,
              "#f0f921"
             ]
            ],
            "type": "heatmap"
           }
          ],
          "heatmapgl": [
           {
            "colorbar": {
             "outlinewidth": 0,
             "ticks": ""
            },
            "colorscale": [
             [
              0,
              "#0d0887"
             ],
             [
              0.1111111111111111,
              "#46039f"
             ],
             [
              0.2222222222222222,
              "#7201a8"
             ],
             [
              0.3333333333333333,
              "#9c179e"
             ],
             [
              0.4444444444444444,
              "#bd3786"
             ],
             [
              0.5555555555555556,
              "#d8576b"
             ],
             [
              0.6666666666666666,
              "#ed7953"
             ],
             [
              0.7777777777777778,
              "#fb9f3a"
             ],
             [
              0.8888888888888888,
              "#fdca26"
             ],
             [
              1,
              "#f0f921"
             ]
            ],
            "type": "heatmapgl"
           }
          ],
          "histogram": [
           {
            "marker": {
             "pattern": {
              "fillmode": "overlay",
              "size": 10,
              "solidity": 0.2
             }
            },
            "type": "histogram"
           }
          ],
          "histogram2d": [
           {
            "colorbar": {
             "outlinewidth": 0,
             "ticks": ""
            },
            "colorscale": [
             [
              0,
              "#0d0887"
             ],
             [
              0.1111111111111111,
              "#46039f"
             ],
             [
              0.2222222222222222,
              "#7201a8"
             ],
             [
              0.3333333333333333,
              "#9c179e"
             ],
             [
              0.4444444444444444,
              "#bd3786"
             ],
             [
              0.5555555555555556,
              "#d8576b"
             ],
             [
              0.6666666666666666,
              "#ed7953"
             ],
             [
              0.7777777777777778,
              "#fb9f3a"
             ],
             [
              0.8888888888888888,
              "#fdca26"
             ],
             [
              1,
              "#f0f921"
             ]
            ],
            "type": "histogram2d"
           }
          ],
          "histogram2dcontour": [
           {
            "colorbar": {
             "outlinewidth": 0,
             "ticks": ""
            },
            "colorscale": [
             [
              0,
              "#0d0887"
             ],
             [
              0.1111111111111111,
              "#46039f"
             ],
             [
              0.2222222222222222,
              "#7201a8"
             ],
             [
              0.3333333333333333,
              "#9c179e"
             ],
             [
              0.4444444444444444,
              "#bd3786"
             ],
             [
              0.5555555555555556,
              "#d8576b"
             ],
             [
              0.6666666666666666,
              "#ed7953"
             ],
             [
              0.7777777777777778,
              "#fb9f3a"
             ],
             [
              0.8888888888888888,
              "#fdca26"
             ],
             [
              1,
              "#f0f921"
             ]
            ],
            "type": "histogram2dcontour"
           }
          ],
          "mesh3d": [
           {
            "colorbar": {
             "outlinewidth": 0,
             "ticks": ""
            },
            "type": "mesh3d"
           }
          ],
          "parcoords": [
           {
            "line": {
             "colorbar": {
              "outlinewidth": 0,
              "ticks": ""
             }
            },
            "type": "parcoords"
           }
          ],
          "pie": [
           {
            "automargin": true,
            "type": "pie"
           }
          ],
          "scatter": [
           {
            "fillpattern": {
             "fillmode": "overlay",
             "size": 10,
             "solidity": 0.2
            },
            "type": "scatter"
           }
          ],
          "scatter3d": [
           {
            "line": {
             "colorbar": {
              "outlinewidth": 0,
              "ticks": ""
             }
            },
            "marker": {
             "colorbar": {
              "outlinewidth": 0,
              "ticks": ""
             }
            },
            "type": "scatter3d"
           }
          ],
          "scattercarpet": [
           {
            "marker": {
             "colorbar": {
              "outlinewidth": 0,
              "ticks": ""
             }
            },
            "type": "scattercarpet"
           }
          ],
          "scattergeo": [
           {
            "marker": {
             "colorbar": {
              "outlinewidth": 0,
              "ticks": ""
             }
            },
            "type": "scattergeo"
           }
          ],
          "scattergl": [
           {
            "marker": {
             "colorbar": {
              "outlinewidth": 0,
              "ticks": ""
             }
            },
            "type": "scattergl"
           }
          ],
          "scattermapbox": [
           {
            "marker": {
             "colorbar": {
              "outlinewidth": 0,
              "ticks": ""
             }
            },
            "type": "scattermapbox"
           }
          ],
          "scatterpolar": [
           {
            "marker": {
             "colorbar": {
              "outlinewidth": 0,
              "ticks": ""
             }
            },
            "type": "scatterpolar"
           }
          ],
          "scatterpolargl": [
           {
            "marker": {
             "colorbar": {
              "outlinewidth": 0,
              "ticks": ""
             }
            },
            "type": "scatterpolargl"
           }
          ],
          "scatterternary": [
           {
            "marker": {
             "colorbar": {
              "outlinewidth": 0,
              "ticks": ""
             }
            },
            "type": "scatterternary"
           }
          ],
          "surface": [
           {
            "colorbar": {
             "outlinewidth": 0,
             "ticks": ""
            },
            "colorscale": [
             [
              0,
              "#0d0887"
             ],
             [
              0.1111111111111111,
              "#46039f"
             ],
             [
              0.2222222222222222,
              "#7201a8"
             ],
             [
              0.3333333333333333,
              "#9c179e"
             ],
             [
              0.4444444444444444,
              "#bd3786"
             ],
             [
              0.5555555555555556,
              "#d8576b"
             ],
             [
              0.6666666666666666,
              "#ed7953"
             ],
             [
              0.7777777777777778,
              "#fb9f3a"
             ],
             [
              0.8888888888888888,
              "#fdca26"
             ],
             [
              1,
              "#f0f921"
             ]
            ],
            "type": "surface"
           }
          ],
          "table": [
           {
            "cells": {
             "fill": {
              "color": "#EBF0F8"
             },
             "line": {
              "color": "white"
             }
            },
            "header": {
             "fill": {
              "color": "#C8D4E3"
             },
             "line": {
              "color": "white"
             }
            },
            "type": "table"
           }
          ]
         },
         "layout": {
          "annotationdefaults": {
           "arrowcolor": "#2a3f5f",
           "arrowhead": 0,
           "arrowwidth": 1
          },
          "autotypenumbers": "strict",
          "coloraxis": {
           "colorbar": {
            "outlinewidth": 0,
            "ticks": ""
           }
          },
          "colorscale": {
           "diverging": [
            [
             0,
             "#8e0152"
            ],
            [
             0.1,
             "#c51b7d"
            ],
            [
             0.2,
             "#de77ae"
            ],
            [
             0.3,
             "#f1b6da"
            ],
            [
             0.4,
             "#fde0ef"
            ],
            [
             0.5,
             "#f7f7f7"
            ],
            [
             0.6,
             "#e6f5d0"
            ],
            [
             0.7,
             "#b8e186"
            ],
            [
             0.8,
             "#7fbc41"
            ],
            [
             0.9,
             "#4d9221"
            ],
            [
             1,
             "#276419"
            ]
           ],
           "sequential": [
            [
             0,
             "#0d0887"
            ],
            [
             0.1111111111111111,
             "#46039f"
            ],
            [
             0.2222222222222222,
             "#7201a8"
            ],
            [
             0.3333333333333333,
             "#9c179e"
            ],
            [
             0.4444444444444444,
             "#bd3786"
            ],
            [
             0.5555555555555556,
             "#d8576b"
            ],
            [
             0.6666666666666666,
             "#ed7953"
            ],
            [
             0.7777777777777778,
             "#fb9f3a"
            ],
            [
             0.8888888888888888,
             "#fdca26"
            ],
            [
             1,
             "#f0f921"
            ]
           ],
           "sequentialminus": [
            [
             0,
             "#0d0887"
            ],
            [
             0.1111111111111111,
             "#46039f"
            ],
            [
             0.2222222222222222,
             "#7201a8"
            ],
            [
             0.3333333333333333,
             "#9c179e"
            ],
            [
             0.4444444444444444,
             "#bd3786"
            ],
            [
             0.5555555555555556,
             "#d8576b"
            ],
            [
             0.6666666666666666,
             "#ed7953"
            ],
            [
             0.7777777777777778,
             "#fb9f3a"
            ],
            [
             0.8888888888888888,
             "#fdca26"
            ],
            [
             1,
             "#f0f921"
            ]
           ]
          },
          "colorway": [
           "#636efa",
           "#EF553B",
           "#00cc96",
           "#ab63fa",
           "#FFA15A",
           "#19d3f3",
           "#FF6692",
           "#B6E880",
           "#FF97FF",
           "#FECB52"
          ],
          "font": {
           "color": "#2a3f5f"
          },
          "geo": {
           "bgcolor": "white",
           "lakecolor": "white",
           "landcolor": "#E5ECF6",
           "showlakes": true,
           "showland": true,
           "subunitcolor": "white"
          },
          "hoverlabel": {
           "align": "left"
          },
          "hovermode": "closest",
          "mapbox": {
           "style": "light"
          },
          "paper_bgcolor": "white",
          "plot_bgcolor": "#E5ECF6",
          "polar": {
           "angularaxis": {
            "gridcolor": "white",
            "linecolor": "white",
            "ticks": ""
           },
           "bgcolor": "#E5ECF6",
           "radialaxis": {
            "gridcolor": "white",
            "linecolor": "white",
            "ticks": ""
           }
          },
          "scene": {
           "xaxis": {
            "backgroundcolor": "#E5ECF6",
            "gridcolor": "white",
            "gridwidth": 2,
            "linecolor": "white",
            "showbackground": true,
            "ticks": "",
            "zerolinecolor": "white"
           },
           "yaxis": {
            "backgroundcolor": "#E5ECF6",
            "gridcolor": "white",
            "gridwidth": 2,
            "linecolor": "white",
            "showbackground": true,
            "ticks": "",
            "zerolinecolor": "white"
           },
           "zaxis": {
            "backgroundcolor": "#E5ECF6",
            "gridcolor": "white",
            "gridwidth": 2,
            "linecolor": "white",
            "showbackground": true,
            "ticks": "",
            "zerolinecolor": "white"
           }
          },
          "shapedefaults": {
           "line": {
            "color": "#2a3f5f"
           }
          },
          "ternary": {
           "aaxis": {
            "gridcolor": "white",
            "linecolor": "white",
            "ticks": ""
           },
           "baxis": {
            "gridcolor": "white",
            "linecolor": "white",
            "ticks": ""
           },
           "bgcolor": "#E5ECF6",
           "caxis": {
            "gridcolor": "white",
            "linecolor": "white",
            "ticks": ""
           }
          },
          "title": {
           "x": 0.05
          },
          "xaxis": {
           "automargin": true,
           "gridcolor": "white",
           "linecolor": "white",
           "ticks": "",
           "title": {
            "standoff": 15
           },
           "zerolinecolor": "white",
           "zerolinewidth": 2
          },
          "yaxis": {
           "automargin": true,
           "gridcolor": "white",
           "linecolor": "white",
           "ticks": "",
           "title": {
            "standoff": 15
           },
           "zerolinecolor": "white",
           "zerolinewidth": 2
          }
         }
        }
       }
      }
     },
     "metadata": {},
     "output_type": "display_data"
    }
   ],
   "source": [
    "LSTM_wa_history = json.load(open(\"./history/LSTM_att_history.json\", 'r'))\n",
    "model_lstm = tf.keras.models.load_model(\"./model/model_LSTM_with_attention.h5\")\n",
    "\n",
    "fig = go.Figure()\n",
    "fig.add_trace(go.Scatter(y=LSTM_wa_history[\"loss\"],\n",
    "                    mode='lines',\n",
    "                    name='loss'))\n",
    "fig.add_trace(go.Scatter(y=LSTM_wa_history[\"val_loss\"],\n",
    "                    mode='lines',\n",
    "                    name='val_loss'))\n",
    "fig.show()\n"
   ]
  },
  {
   "cell_type": "markdown",
   "metadata": {},
   "source": [
    "### Conclusion \n",
    "\n",
    "\n",
    "Based on the provided models for predicting whether emails are spam or ham, let's analyze their performances and conclude on the best choice considering overfitting and other factors.\n",
    "\n",
    "* RNN Model:\n",
    "\n",
    "    Achieves a high binary accuracy of around 99.39% on the training set and 95.63% on the validation set.\n",
    "    Appears to generalize well with a consistent improvement in validation accuracy across epochs.\n",
    "    Shows minimal signs of overfitting with a slight increase in validation loss towards the end but still maintains a high accuracy.\n",
    "\n",
    "* GRU Model:\n",
    "\n",
    "    Starts with relatively poor performance, with binary accuracy dropping significantly during training.\n",
    "    Doesn't appear to learn effectively, as indicated by the low accuracy on both training and validation sets.\n",
    "    Demonstrates signs of severe overfitting with a large gap between training and validation accuracies.\n",
    "\n",
    "* LSTM Model:\n",
    "\n",
    "    Initially achieves a high binary accuracy of around 86.17% on the training set and 97.54% on the validation set.\n",
    "    Maintains high accuracy throughout training but shows signs of slight overfitting with a slight divergence between training and validation accuracies.\n",
    "    However, it successfully learns the patterns in the data and generalizes well.\n",
    "\n",
    "* LSTM with Attention Model:\n",
    "\n",
    "    Starts with a reasonable binary accuracy of around 86.12% on the training set and 97.48% on the validation set.\n",
    "    Maintains high accuracy throughout training with minimal signs of overfitting, similar to the basic LSTM model.\n",
    "    Incorporates attention mechanism, which might help in focusing on important parts of the input sequence, potentially improving performance.\n",
    "\n",
    "\n",
    "Considering the performances and potential for overfitting, the LSTM with Attention model seems to be the most promising choice. It achieves high accuracy on both training and validation sets while demonstrating resilience against overfitting. The attention mechanism adds an additional layer of interpretability and could potentially enhance performance further."
   ]
  }
 ],
 "metadata": {
  "kernelspec": {
   "display_name": "Python 3",
   "language": "python",
   "name": "python3"
  },
  "language_info": {
   "codemirror_mode": {
    "name": "ipython",
    "version": 3
   },
   "file_extension": ".py",
   "mimetype": "text/x-python",
   "name": "python",
   "nbconvert_exporter": "python",
   "pygments_lexer": "ipython3",
   "version": "3.11.4"
  },
  "orig_nbformat": 4
 },
 "nbformat": 4,
 "nbformat_minor": 2
}
